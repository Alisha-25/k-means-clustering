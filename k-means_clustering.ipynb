{
 "cells": [
  {
   "cell_type": "code",
   "execution_count": 1,
   "id": "c8dcafca-273d-46c3-910a-709eaf111d05",
   "metadata": {},
   "outputs": [],
   "source": [
    "import numpy as np\n",
    "import pandas as pd"
   ]
  },
  {
   "cell_type": "code",
   "execution_count": 2,
   "id": "fc476d7d-8285-4ed3-a91e-32143629867a",
   "metadata": {},
   "outputs": [],
   "source": [
    "df = pd.read_csv('diamonds.csv')"
   ]
  },
  {
   "cell_type": "code",
   "execution_count": 3,
   "id": "4a05331e-9157-4037-8f61-eec6c0b908f9",
   "metadata": {},
   "outputs": [
    {
     "data": {
      "text/html": [
       "<div>\n",
       "<style scoped>\n",
       "    .dataframe tbody tr th:only-of-type {\n",
       "        vertical-align: middle;\n",
       "    }\n",
       "\n",
       "    .dataframe tbody tr th {\n",
       "        vertical-align: top;\n",
       "    }\n",
       "\n",
       "    .dataframe thead th {\n",
       "        text-align: right;\n",
       "    }\n",
       "</style>\n",
       "<table border=\"1\" class=\"dataframe\">\n",
       "  <thead>\n",
       "    <tr style=\"text-align: right;\">\n",
       "      <th></th>\n",
       "      <th>Unnamed: 0</th>\n",
       "      <th>carat</th>\n",
       "      <th>cut</th>\n",
       "      <th>color</th>\n",
       "      <th>clarity</th>\n",
       "      <th>depth</th>\n",
       "      <th>table</th>\n",
       "      <th>price</th>\n",
       "      <th>x</th>\n",
       "      <th>y</th>\n",
       "      <th>z</th>\n",
       "    </tr>\n",
       "  </thead>\n",
       "  <tbody>\n",
       "    <tr>\n",
       "      <th>0</th>\n",
       "      <td>1</td>\n",
       "      <td>0.23</td>\n",
       "      <td>Ideal</td>\n",
       "      <td>E</td>\n",
       "      <td>SI2</td>\n",
       "      <td>61.5</td>\n",
       "      <td>55.0</td>\n",
       "      <td>326</td>\n",
       "      <td>3.95</td>\n",
       "      <td>3.98</td>\n",
       "      <td>2.43</td>\n",
       "    </tr>\n",
       "    <tr>\n",
       "      <th>1</th>\n",
       "      <td>2</td>\n",
       "      <td>0.21</td>\n",
       "      <td>Premium</td>\n",
       "      <td>E</td>\n",
       "      <td>SI1</td>\n",
       "      <td>59.8</td>\n",
       "      <td>61.0</td>\n",
       "      <td>326</td>\n",
       "      <td>3.89</td>\n",
       "      <td>3.84</td>\n",
       "      <td>2.31</td>\n",
       "    </tr>\n",
       "    <tr>\n",
       "      <th>2</th>\n",
       "      <td>3</td>\n",
       "      <td>0.23</td>\n",
       "      <td>Good</td>\n",
       "      <td>E</td>\n",
       "      <td>VS1</td>\n",
       "      <td>56.9</td>\n",
       "      <td>65.0</td>\n",
       "      <td>327</td>\n",
       "      <td>4.05</td>\n",
       "      <td>4.07</td>\n",
       "      <td>2.31</td>\n",
       "    </tr>\n",
       "    <tr>\n",
       "      <th>3</th>\n",
       "      <td>4</td>\n",
       "      <td>0.29</td>\n",
       "      <td>Premium</td>\n",
       "      <td>I</td>\n",
       "      <td>VS2</td>\n",
       "      <td>62.4</td>\n",
       "      <td>58.0</td>\n",
       "      <td>334</td>\n",
       "      <td>4.20</td>\n",
       "      <td>4.23</td>\n",
       "      <td>2.63</td>\n",
       "    </tr>\n",
       "    <tr>\n",
       "      <th>4</th>\n",
       "      <td>5</td>\n",
       "      <td>0.31</td>\n",
       "      <td>Good</td>\n",
       "      <td>J</td>\n",
       "      <td>SI2</td>\n",
       "      <td>63.3</td>\n",
       "      <td>58.0</td>\n",
       "      <td>335</td>\n",
       "      <td>4.34</td>\n",
       "      <td>4.35</td>\n",
       "      <td>2.75</td>\n",
       "    </tr>\n",
       "  </tbody>\n",
       "</table>\n",
       "</div>"
      ],
      "text/plain": [
       "   Unnamed: 0  carat      cut color clarity  depth  table  price     x     y  \\\n",
       "0           1   0.23    Ideal     E     SI2   61.5   55.0    326  3.95  3.98   \n",
       "1           2   0.21  Premium     E     SI1   59.8   61.0    326  3.89  3.84   \n",
       "2           3   0.23     Good     E     VS1   56.9   65.0    327  4.05  4.07   \n",
       "3           4   0.29  Premium     I     VS2   62.4   58.0    334  4.20  4.23   \n",
       "4           5   0.31     Good     J     SI2   63.3   58.0    335  4.34  4.35   \n",
       "\n",
       "      z  \n",
       "0  2.43  \n",
       "1  2.31  \n",
       "2  2.31  \n",
       "3  2.63  \n",
       "4  2.75  "
      ]
     },
     "execution_count": 3,
     "metadata": {},
     "output_type": "execute_result"
    }
   ],
   "source": [
    "df.head()"
   ]
  },
  {
   "cell_type": "code",
   "execution_count": 4,
   "id": "7850330b-d1b0-4112-81ac-93544d3b32c6",
   "metadata": {},
   "outputs": [
    {
     "data": {
      "text/plain": [
       "(53940, 11)"
      ]
     },
     "execution_count": 4,
     "metadata": {},
     "output_type": "execute_result"
    }
   ],
   "source": [
    "df.shape"
   ]
  },
  {
   "cell_type": "code",
   "execution_count": 5,
   "id": "281311c9-6ee0-4274-ab3f-04af0e474150",
   "metadata": {},
   "outputs": [
    {
     "name": "stdout",
     "output_type": "stream",
     "text": [
      "<class 'pandas.core.frame.DataFrame'>\n",
      "RangeIndex: 53940 entries, 0 to 53939\n",
      "Data columns (total 11 columns):\n",
      " #   Column      Non-Null Count  Dtype  \n",
      "---  ------      --------------  -----  \n",
      " 0   Unnamed: 0  53940 non-null  int64  \n",
      " 1   carat       53940 non-null  float64\n",
      " 2   cut         53940 non-null  object \n",
      " 3   color       53940 non-null  object \n",
      " 4   clarity     53940 non-null  object \n",
      " 5   depth       53940 non-null  float64\n",
      " 6   table       53940 non-null  float64\n",
      " 7   price       53940 non-null  int64  \n",
      " 8   x           53940 non-null  float64\n",
      " 9   y           53940 non-null  float64\n",
      " 10  z           53940 non-null  float64\n",
      "dtypes: float64(6), int64(2), object(3)\n",
      "memory usage: 4.5+ MB\n"
     ]
    }
   ],
   "source": [
    "df.info()"
   ]
  },
  {
   "cell_type": "code",
   "execution_count": 6,
   "id": "2fe8e719-8648-4b1c-915c-27e18441ec7b",
   "metadata": {},
   "outputs": [
    {
     "data": {
      "text/plain": [
       "Unnamed: 0    0\n",
       "carat         0\n",
       "cut           0\n",
       "color         0\n",
       "clarity       0\n",
       "depth         0\n",
       "table         0\n",
       "price         0\n",
       "x             0\n",
       "y             0\n",
       "z             0\n",
       "dtype: int64"
      ]
     },
     "execution_count": 6,
     "metadata": {},
     "output_type": "execute_result"
    }
   ],
   "source": [
    "df.isnull().sum()"
   ]
  },
  {
   "cell_type": "code",
   "execution_count": 7,
   "id": "b1183188-abe9-486a-9b29-143792a34233",
   "metadata": {},
   "outputs": [
    {
     "data": {
      "text/plain": [
       "0"
      ]
     },
     "execution_count": 7,
     "metadata": {},
     "output_type": "execute_result"
    }
   ],
   "source": [
    "df.isnull().sum().sum()"
   ]
  },
  {
   "cell_type": "code",
   "execution_count": 8,
   "id": "3d20b6ab-88a9-444f-81a8-5f00aeac42d9",
   "metadata": {},
   "outputs": [
    {
     "data": {
      "text/plain": [
       "Unnamed: 0      int64\n",
       "carat         float64\n",
       "cut            object\n",
       "color          object\n",
       "clarity        object\n",
       "depth         float64\n",
       "table         float64\n",
       "price           int64\n",
       "x             float64\n",
       "y             float64\n",
       "z             float64\n",
       "dtype: object"
      ]
     },
     "execution_count": 8,
     "metadata": {},
     "output_type": "execute_result"
    }
   ],
   "source": [
    "df.dtypes"
   ]
  },
  {
   "cell_type": "code",
   "execution_count": 9,
   "id": "566f0e3c-204a-42c7-9e6f-bf8040aaf943",
   "metadata": {},
   "outputs": [
    {
     "data": {
      "text/plain": [
       "Unnamed: 0    53940\n",
       "carat           273\n",
       "cut               5\n",
       "color             7\n",
       "clarity           8\n",
       "depth           184\n",
       "table           127\n",
       "price         11602\n",
       "x               554\n",
       "y               552\n",
       "z               375\n",
       "dtype: int64"
      ]
     },
     "execution_count": 9,
     "metadata": {},
     "output_type": "execute_result"
    }
   ],
   "source": [
    "df.nunique()"
   ]
  },
  {
   "cell_type": "code",
   "execution_count": 10,
   "id": "d15ef0c8-511e-4e33-834a-68e93861bf76",
   "metadata": {},
   "outputs": [],
   "source": [
    "df.drop_duplicates(inplace=True)"
   ]
  },
  {
   "cell_type": "code",
   "execution_count": 11,
   "id": "07afc2da-47c3-42de-94d3-55e1b2c36038",
   "metadata": {},
   "outputs": [
    {
     "data": {
      "text/plain": [
       "(53940, 11)"
      ]
     },
     "execution_count": 11,
     "metadata": {},
     "output_type": "execute_result"
    }
   ],
   "source": [
    "df.shape"
   ]
  },
  {
   "cell_type": "markdown",
   "id": "24a03b28-0e4f-49d4-9dd8-32d1825ec77c",
   "metadata": {},
   "source": [
    "# one hot encoding"
   ]
  },
  {
   "cell_type": "code",
   "execution_count": 12,
   "id": "cd34d258-9f91-49b4-aea1-8e37ca0f5e35",
   "metadata": {},
   "outputs": [],
   "source": [
    "df_ohe = pd.get_dummies(df)"
   ]
  },
  {
   "cell_type": "code",
   "execution_count": 13,
   "id": "3e07edb2-b422-4d19-9964-8bebc2fe302c",
   "metadata": {},
   "outputs": [
    {
     "data": {
      "text/plain": [
       "(53940, 28)"
      ]
     },
     "execution_count": 13,
     "metadata": {},
     "output_type": "execute_result"
    }
   ],
   "source": [
    "df_ohe.shape"
   ]
  },
  {
   "cell_type": "code",
   "execution_count": 14,
   "id": "70867643-e165-4560-b806-3ade5970c3a6",
   "metadata": {},
   "outputs": [],
   "source": [
    "df_ohe = df_ohe.iloc[:,1:]"
   ]
  },
  {
   "cell_type": "code",
   "execution_count": 15,
   "id": "59d91d22-58e8-4675-b90e-c4ae0fbf3f30",
   "metadata": {},
   "outputs": [],
   "source": [
    "df_ohe.fillna(df_ohe.median(), inplace=True)"
   ]
  },
  {
   "cell_type": "code",
   "execution_count": 16,
   "id": "0c27274b-ad05-44a0-b3f9-594b9aff66bd",
   "metadata": {},
   "outputs": [
    {
     "data": {
      "text/plain": [
       "Index(['carat', 'depth', 'table', 'price', 'x', 'y', 'z', 'cut_Fair',\n",
       "       'cut_Good', 'cut_Ideal', 'cut_Premium', 'cut_Very Good', 'color_D',\n",
       "       'color_E', 'color_F', 'color_G', 'color_H', 'color_I', 'color_J',\n",
       "       'clarity_I1', 'clarity_IF', 'clarity_SI1', 'clarity_SI2', 'clarity_VS1',\n",
       "       'clarity_VS2', 'clarity_VVS1', 'clarity_VVS2'],\n",
       "      dtype='object')"
      ]
     },
     "execution_count": 16,
     "metadata": {},
     "output_type": "execute_result"
    }
   ],
   "source": [
    "df_ohe.columns"
   ]
  },
  {
   "cell_type": "code",
   "execution_count": 17,
   "id": "d0254834-2e47-43c1-b8b9-b3400d7fcd72",
   "metadata": {},
   "outputs": [
    {
     "data": {
      "text/plain": [
       "carat              273\n",
       "depth              184\n",
       "table              127\n",
       "price            11602\n",
       "x                  554\n",
       "y                  552\n",
       "z                  375\n",
       "cut_Fair             2\n",
       "cut_Good             2\n",
       "cut_Ideal            2\n",
       "cut_Premium          2\n",
       "cut_Very Good        2\n",
       "color_D              2\n",
       "color_E              2\n",
       "color_F              2\n",
       "color_G              2\n",
       "color_H              2\n",
       "color_I              2\n",
       "color_J              2\n",
       "clarity_I1           2\n",
       "clarity_IF           2\n",
       "clarity_SI1          2\n",
       "clarity_SI2          2\n",
       "clarity_VS1          2\n",
       "clarity_VS2          2\n",
       "clarity_VVS1         2\n",
       "clarity_VVS2         2\n",
       "dtype: int64"
      ]
     },
     "execution_count": 17,
     "metadata": {},
     "output_type": "execute_result"
    }
   ],
   "source": [
    "df_ohe.nunique()"
   ]
  },
  {
   "cell_type": "code",
   "execution_count": 18,
   "id": "04134051-6865-423a-aa87-3c81399f67a9",
   "metadata": {},
   "outputs": [
    {
     "name": "stdout",
     "output_type": "stream",
     "text": [
      "<class 'pandas.core.frame.DataFrame'>\n",
      "RangeIndex: 53940 entries, 0 to 53939\n",
      "Data columns (total 27 columns):\n",
      " #   Column         Non-Null Count  Dtype  \n",
      "---  ------         --------------  -----  \n",
      " 0   carat          53940 non-null  float64\n",
      " 1   depth          53940 non-null  float64\n",
      " 2   table          53940 non-null  float64\n",
      " 3   price          53940 non-null  int64  \n",
      " 4   x              53940 non-null  float64\n",
      " 5   y              53940 non-null  float64\n",
      " 6   z              53940 non-null  float64\n",
      " 7   cut_Fair       53940 non-null  bool   \n",
      " 8   cut_Good       53940 non-null  bool   \n",
      " 9   cut_Ideal      53940 non-null  bool   \n",
      " 10  cut_Premium    53940 non-null  bool   \n",
      " 11  cut_Very Good  53940 non-null  bool   \n",
      " 12  color_D        53940 non-null  bool   \n",
      " 13  color_E        53940 non-null  bool   \n",
      " 14  color_F        53940 non-null  bool   \n",
      " 15  color_G        53940 non-null  bool   \n",
      " 16  color_H        53940 non-null  bool   \n",
      " 17  color_I        53940 non-null  bool   \n",
      " 18  color_J        53940 non-null  bool   \n",
      " 19  clarity_I1     53940 non-null  bool   \n",
      " 20  clarity_IF     53940 non-null  bool   \n",
      " 21  clarity_SI1    53940 non-null  bool   \n",
      " 22  clarity_SI2    53940 non-null  bool   \n",
      " 23  clarity_VS1    53940 non-null  bool   \n",
      " 24  clarity_VS2    53940 non-null  bool   \n",
      " 25  clarity_VVS1   53940 non-null  bool   \n",
      " 26  clarity_VVS2   53940 non-null  bool   \n",
      "dtypes: bool(20), float64(6), int64(1)\n",
      "memory usage: 3.9 MB\n"
     ]
    }
   ],
   "source": [
    "df_ohe.info()"
   ]
  },
  {
   "cell_type": "markdown",
   "id": "2b0eda58-297c-4b92-90a8-37cedec5d64a",
   "metadata": {},
   "source": [
    "# X & Y split "
   ]
  },
  {
   "cell_type": "code",
   "execution_count": 19,
   "id": "9068fb69-1c4b-4d41-8dca-62bda7c0f355",
   "metadata": {},
   "outputs": [
    {
     "data": {
      "text/html": [
       "<div>\n",
       "<style scoped>\n",
       "    .dataframe tbody tr th:only-of-type {\n",
       "        vertical-align: middle;\n",
       "    }\n",
       "\n",
       "    .dataframe tbody tr th {\n",
       "        vertical-align: top;\n",
       "    }\n",
       "\n",
       "    .dataframe thead th {\n",
       "        text-align: right;\n",
       "    }\n",
       "</style>\n",
       "<table border=\"1\" class=\"dataframe\">\n",
       "  <thead>\n",
       "    <tr style=\"text-align: right;\">\n",
       "      <th></th>\n",
       "      <th>carat</th>\n",
       "      <th>depth</th>\n",
       "      <th>table</th>\n",
       "      <th>price</th>\n",
       "      <th>x</th>\n",
       "      <th>y</th>\n",
       "      <th>z</th>\n",
       "      <th>cut_Fair</th>\n",
       "      <th>cut_Good</th>\n",
       "      <th>cut_Ideal</th>\n",
       "      <th>...</th>\n",
       "      <th>color_I</th>\n",
       "      <th>color_J</th>\n",
       "      <th>clarity_I1</th>\n",
       "      <th>clarity_IF</th>\n",
       "      <th>clarity_SI1</th>\n",
       "      <th>clarity_SI2</th>\n",
       "      <th>clarity_VS1</th>\n",
       "      <th>clarity_VS2</th>\n",
       "      <th>clarity_VVS1</th>\n",
       "      <th>clarity_VVS2</th>\n",
       "    </tr>\n",
       "  </thead>\n",
       "  <tbody>\n",
       "    <tr>\n",
       "      <th>0</th>\n",
       "      <td>0.23</td>\n",
       "      <td>61.5</td>\n",
       "      <td>55.0</td>\n",
       "      <td>326</td>\n",
       "      <td>3.95</td>\n",
       "      <td>3.98</td>\n",
       "      <td>2.43</td>\n",
       "      <td>False</td>\n",
       "      <td>False</td>\n",
       "      <td>True</td>\n",
       "      <td>...</td>\n",
       "      <td>False</td>\n",
       "      <td>False</td>\n",
       "      <td>False</td>\n",
       "      <td>False</td>\n",
       "      <td>False</td>\n",
       "      <td>True</td>\n",
       "      <td>False</td>\n",
       "      <td>False</td>\n",
       "      <td>False</td>\n",
       "      <td>False</td>\n",
       "    </tr>\n",
       "    <tr>\n",
       "      <th>1</th>\n",
       "      <td>0.21</td>\n",
       "      <td>59.8</td>\n",
       "      <td>61.0</td>\n",
       "      <td>326</td>\n",
       "      <td>3.89</td>\n",
       "      <td>3.84</td>\n",
       "      <td>2.31</td>\n",
       "      <td>False</td>\n",
       "      <td>False</td>\n",
       "      <td>False</td>\n",
       "      <td>...</td>\n",
       "      <td>False</td>\n",
       "      <td>False</td>\n",
       "      <td>False</td>\n",
       "      <td>False</td>\n",
       "      <td>True</td>\n",
       "      <td>False</td>\n",
       "      <td>False</td>\n",
       "      <td>False</td>\n",
       "      <td>False</td>\n",
       "      <td>False</td>\n",
       "    </tr>\n",
       "    <tr>\n",
       "      <th>2</th>\n",
       "      <td>0.23</td>\n",
       "      <td>56.9</td>\n",
       "      <td>65.0</td>\n",
       "      <td>327</td>\n",
       "      <td>4.05</td>\n",
       "      <td>4.07</td>\n",
       "      <td>2.31</td>\n",
       "      <td>False</td>\n",
       "      <td>True</td>\n",
       "      <td>False</td>\n",
       "      <td>...</td>\n",
       "      <td>False</td>\n",
       "      <td>False</td>\n",
       "      <td>False</td>\n",
       "      <td>False</td>\n",
       "      <td>False</td>\n",
       "      <td>False</td>\n",
       "      <td>True</td>\n",
       "      <td>False</td>\n",
       "      <td>False</td>\n",
       "      <td>False</td>\n",
       "    </tr>\n",
       "    <tr>\n",
       "      <th>3</th>\n",
       "      <td>0.29</td>\n",
       "      <td>62.4</td>\n",
       "      <td>58.0</td>\n",
       "      <td>334</td>\n",
       "      <td>4.20</td>\n",
       "      <td>4.23</td>\n",
       "      <td>2.63</td>\n",
       "      <td>False</td>\n",
       "      <td>False</td>\n",
       "      <td>False</td>\n",
       "      <td>...</td>\n",
       "      <td>True</td>\n",
       "      <td>False</td>\n",
       "      <td>False</td>\n",
       "      <td>False</td>\n",
       "      <td>False</td>\n",
       "      <td>False</td>\n",
       "      <td>False</td>\n",
       "      <td>True</td>\n",
       "      <td>False</td>\n",
       "      <td>False</td>\n",
       "    </tr>\n",
       "    <tr>\n",
       "      <th>4</th>\n",
       "      <td>0.31</td>\n",
       "      <td>63.3</td>\n",
       "      <td>58.0</td>\n",
       "      <td>335</td>\n",
       "      <td>4.34</td>\n",
       "      <td>4.35</td>\n",
       "      <td>2.75</td>\n",
       "      <td>False</td>\n",
       "      <td>True</td>\n",
       "      <td>False</td>\n",
       "      <td>...</td>\n",
       "      <td>False</td>\n",
       "      <td>True</td>\n",
       "      <td>False</td>\n",
       "      <td>False</td>\n",
       "      <td>False</td>\n",
       "      <td>True</td>\n",
       "      <td>False</td>\n",
       "      <td>False</td>\n",
       "      <td>False</td>\n",
       "      <td>False</td>\n",
       "    </tr>\n",
       "  </tbody>\n",
       "</table>\n",
       "<p>5 rows × 27 columns</p>\n",
       "</div>"
      ],
      "text/plain": [
       "   carat  depth  table  price     x     y     z  cut_Fair  cut_Good  \\\n",
       "0   0.23   61.5   55.0    326  3.95  3.98  2.43     False     False   \n",
       "1   0.21   59.8   61.0    326  3.89  3.84  2.31     False     False   \n",
       "2   0.23   56.9   65.0    327  4.05  4.07  2.31     False      True   \n",
       "3   0.29   62.4   58.0    334  4.20  4.23  2.63     False     False   \n",
       "4   0.31   63.3   58.0    335  4.34  4.35  2.75     False      True   \n",
       "\n",
       "   cut_Ideal  ...  color_I  color_J  clarity_I1  clarity_IF  clarity_SI1  \\\n",
       "0       True  ...    False    False       False       False        False   \n",
       "1      False  ...    False    False       False       False         True   \n",
       "2      False  ...    False    False       False       False        False   \n",
       "3      False  ...     True    False       False       False        False   \n",
       "4      False  ...    False     True       False       False        False   \n",
       "\n",
       "   clarity_SI2  clarity_VS1  clarity_VS2  clarity_VVS1  clarity_VVS2  \n",
       "0         True        False        False         False         False  \n",
       "1        False        False        False         False         False  \n",
       "2        False         True        False         False         False  \n",
       "3        False        False         True         False         False  \n",
       "4         True        False        False         False         False  \n",
       "\n",
       "[5 rows x 27 columns]"
      ]
     },
     "execution_count": 19,
     "metadata": {},
     "output_type": "execute_result"
    }
   ],
   "source": [
    "X = df_ohe\n",
    "X.head()"
   ]
  },
  {
   "cell_type": "code",
   "execution_count": 20,
   "id": "8f2e81e9-bb76-497d-b407-2931039bc9ee",
   "metadata": {},
   "outputs": [
    {
     "data": {
      "text/plain": [
       "(53940, 27)"
      ]
     },
     "execution_count": 20,
     "metadata": {},
     "output_type": "execute_result"
    }
   ],
   "source": [
    "X.shape"
   ]
  },
  {
   "cell_type": "markdown",
   "id": "c2737866-ea2c-4746-90a9-28ab38fc3377",
   "metadata": {},
   "source": [
    "# train test split"
   ]
  },
  {
   "cell_type": "code",
   "execution_count": 21,
   "id": "d82711ec-05d4-4408-80ef-9bde3f0d8b6d",
   "metadata": {},
   "outputs": [],
   "source": [
    "from sklearn.model_selection import train_test_split"
   ]
  },
  {
   "cell_type": "code",
   "execution_count": 22,
   "id": "9d55c40d-7179-46bb-ada6-f501ceb7df21",
   "metadata": {},
   "outputs": [],
   "source": [
    "X_train, X_test, = train_test_split(X, test_size=0.3, random_state=7)"
   ]
  },
  {
   "cell_type": "code",
   "execution_count": 23,
   "id": "8a5d0783-4b51-4444-a509-45da44da3e8d",
   "metadata": {},
   "outputs": [
    {
     "data": {
      "text/plain": [
       "((37758, 27), (16182, 27))"
      ]
     },
     "execution_count": 23,
     "metadata": {},
     "output_type": "execute_result"
    }
   ],
   "source": [
    "X_train.shape, X_test.shape"
   ]
  },
  {
   "cell_type": "markdown",
   "id": "a3c092ac-e207-49d4-8b7f-2c57f8b8966f",
   "metadata": {},
   "source": [
    "# standardize the data"
   ]
  },
  {
   "cell_type": "code",
   "execution_count": 24,
   "id": "3bc0f236-e785-4440-9350-14a8ea449969",
   "metadata": {},
   "outputs": [],
   "source": [
    "from sklearn.preprocessing import StandardScaler"
   ]
  },
  {
   "cell_type": "code",
   "execution_count": 25,
   "id": "7af77371-44a4-4bed-98b0-cb390d013405",
   "metadata": {},
   "outputs": [
    {
     "data": {
      "text/html": [
       "<style>#sk-container-id-1 {color: black;}#sk-container-id-1 pre{padding: 0;}#sk-container-id-1 div.sk-toggleable {background-color: white;}#sk-container-id-1 label.sk-toggleable__label {cursor: pointer;display: block;width: 100%;margin-bottom: 0;padding: 0.3em;box-sizing: border-box;text-align: center;}#sk-container-id-1 label.sk-toggleable__label-arrow:before {content: \"▸\";float: left;margin-right: 0.25em;color: #696969;}#sk-container-id-1 label.sk-toggleable__label-arrow:hover:before {color: black;}#sk-container-id-1 div.sk-estimator:hover label.sk-toggleable__label-arrow:before {color: black;}#sk-container-id-1 div.sk-toggleable__content {max-height: 0;max-width: 0;overflow: hidden;text-align: left;background-color: #f0f8ff;}#sk-container-id-1 div.sk-toggleable__content pre {margin: 0.2em;color: black;border-radius: 0.25em;background-color: #f0f8ff;}#sk-container-id-1 input.sk-toggleable__control:checked~div.sk-toggleable__content {max-height: 200px;max-width: 100%;overflow: auto;}#sk-container-id-1 input.sk-toggleable__control:checked~label.sk-toggleable__label-arrow:before {content: \"▾\";}#sk-container-id-1 div.sk-estimator input.sk-toggleable__control:checked~label.sk-toggleable__label {background-color: #d4ebff;}#sk-container-id-1 div.sk-label input.sk-toggleable__control:checked~label.sk-toggleable__label {background-color: #d4ebff;}#sk-container-id-1 input.sk-hidden--visually {border: 0;clip: rect(1px 1px 1px 1px);clip: rect(1px, 1px, 1px, 1px);height: 1px;margin: -1px;overflow: hidden;padding: 0;position: absolute;width: 1px;}#sk-container-id-1 div.sk-estimator {font-family: monospace;background-color: #f0f8ff;border: 1px dotted black;border-radius: 0.25em;box-sizing: border-box;margin-bottom: 0.5em;}#sk-container-id-1 div.sk-estimator:hover {background-color: #d4ebff;}#sk-container-id-1 div.sk-parallel-item::after {content: \"\";width: 100%;border-bottom: 1px solid gray;flex-grow: 1;}#sk-container-id-1 div.sk-label:hover label.sk-toggleable__label {background-color: #d4ebff;}#sk-container-id-1 div.sk-serial::before {content: \"\";position: absolute;border-left: 1px solid gray;box-sizing: border-box;top: 0;bottom: 0;left: 50%;z-index: 0;}#sk-container-id-1 div.sk-serial {display: flex;flex-direction: column;align-items: center;background-color: white;padding-right: 0.2em;padding-left: 0.2em;position: relative;}#sk-container-id-1 div.sk-item {position: relative;z-index: 1;}#sk-container-id-1 div.sk-parallel {display: flex;align-items: stretch;justify-content: center;background-color: white;position: relative;}#sk-container-id-1 div.sk-item::before, #sk-container-id-1 div.sk-parallel-item::before {content: \"\";position: absolute;border-left: 1px solid gray;box-sizing: border-box;top: 0;bottom: 0;left: 50%;z-index: -1;}#sk-container-id-1 div.sk-parallel-item {display: flex;flex-direction: column;z-index: 1;position: relative;background-color: white;}#sk-container-id-1 div.sk-parallel-item:first-child::after {align-self: flex-end;width: 50%;}#sk-container-id-1 div.sk-parallel-item:last-child::after {align-self: flex-start;width: 50%;}#sk-container-id-1 div.sk-parallel-item:only-child::after {width: 0;}#sk-container-id-1 div.sk-dashed-wrapped {border: 1px dashed gray;margin: 0 0.4em 0.5em 0.4em;box-sizing: border-box;padding-bottom: 0.4em;background-color: white;}#sk-container-id-1 div.sk-label label {font-family: monospace;font-weight: bold;display: inline-block;line-height: 1.2em;}#sk-container-id-1 div.sk-label-container {text-align: center;}#sk-container-id-1 div.sk-container {/* jupyter's `normalize.less` sets `[hidden] { display: none; }` but bootstrap.min.css set `[hidden] { display: none !important; }` so we also need the `!important` here to be able to override the default hidden behavior on the sphinx rendered scikit-learn.org. See: https://github.com/scikit-learn/scikit-learn/issues/21755 */display: inline-block !important;position: relative;}#sk-container-id-1 div.sk-text-repr-fallback {display: none;}</style><div id=\"sk-container-id-1\" class=\"sk-top-container\"><div class=\"sk-text-repr-fallback\"><pre>StandardScaler()</pre><b>In a Jupyter environment, please rerun this cell to show the HTML representation or trust the notebook. <br />On GitHub, the HTML representation is unable to render, please try loading this page with nbviewer.org.</b></div><div class=\"sk-container\" hidden><div class=\"sk-item\"><div class=\"sk-estimator sk-toggleable\"><input class=\"sk-toggleable__control sk-hidden--visually\" id=\"sk-estimator-id-1\" type=\"checkbox\" checked><label for=\"sk-estimator-id-1\" class=\"sk-toggleable__label sk-toggleable__label-arrow\">StandardScaler</label><div class=\"sk-toggleable__content\"><pre>StandardScaler()</pre></div></div></div></div></div>"
      ],
      "text/plain": [
       "StandardScaler()"
      ]
     },
     "execution_count": 25,
     "metadata": {},
     "output_type": "execute_result"
    }
   ],
   "source": [
    "sd = StandardScaler()\n",
    "sd.fit(X_train)"
   ]
  },
  {
   "cell_type": "code",
   "execution_count": 26,
   "id": "d0fd2086-69b6-4157-81db-f26f1b8819d7",
   "metadata": {},
   "outputs": [
    {
     "data": {
      "text/html": [
       "<div>\n",
       "<style scoped>\n",
       "    .dataframe tbody tr th:only-of-type {\n",
       "        vertical-align: middle;\n",
       "    }\n",
       "\n",
       "    .dataframe tbody tr th {\n",
       "        vertical-align: top;\n",
       "    }\n",
       "\n",
       "    .dataframe thead th {\n",
       "        text-align: right;\n",
       "    }\n",
       "</style>\n",
       "<table border=\"1\" class=\"dataframe\">\n",
       "  <thead>\n",
       "    <tr style=\"text-align: right;\">\n",
       "      <th></th>\n",
       "      <th>carat</th>\n",
       "      <th>depth</th>\n",
       "      <th>table</th>\n",
       "      <th>price</th>\n",
       "      <th>x</th>\n",
       "      <th>y</th>\n",
       "      <th>z</th>\n",
       "    </tr>\n",
       "  </thead>\n",
       "  <tbody>\n",
       "    <tr>\n",
       "      <th>count</th>\n",
       "      <td>37758.000000</td>\n",
       "      <td>37758.000000</td>\n",
       "      <td>37758.000000</td>\n",
       "      <td>37758.000000</td>\n",
       "      <td>37758.000000</td>\n",
       "      <td>37758.000000</td>\n",
       "      <td>37758.000000</td>\n",
       "    </tr>\n",
       "    <tr>\n",
       "      <th>mean</th>\n",
       "      <td>0.797883</td>\n",
       "      <td>61.747548</td>\n",
       "      <td>57.452537</td>\n",
       "      <td>3935.724588</td>\n",
       "      <td>5.731350</td>\n",
       "      <td>5.734758</td>\n",
       "      <td>3.538770</td>\n",
       "    </tr>\n",
       "    <tr>\n",
       "      <th>std</th>\n",
       "      <td>0.473971</td>\n",
       "      <td>1.431517</td>\n",
       "      <td>2.230732</td>\n",
       "      <td>3995.660835</td>\n",
       "      <td>1.121605</td>\n",
       "      <td>1.146157</td>\n",
       "      <td>0.710144</td>\n",
       "    </tr>\n",
       "    <tr>\n",
       "      <th>min</th>\n",
       "      <td>0.200000</td>\n",
       "      <td>43.000000</td>\n",
       "      <td>44.000000</td>\n",
       "      <td>326.000000</td>\n",
       "      <td>0.000000</td>\n",
       "      <td>0.000000</td>\n",
       "      <td>0.000000</td>\n",
       "    </tr>\n",
       "    <tr>\n",
       "      <th>25%</th>\n",
       "      <td>0.400000</td>\n",
       "      <td>61.000000</td>\n",
       "      <td>56.000000</td>\n",
       "      <td>954.000000</td>\n",
       "      <td>4.720000</td>\n",
       "      <td>4.730000</td>\n",
       "      <td>2.910000</td>\n",
       "    </tr>\n",
       "    <tr>\n",
       "      <th>50%</th>\n",
       "      <td>0.700000</td>\n",
       "      <td>61.800000</td>\n",
       "      <td>57.000000</td>\n",
       "      <td>2409.000000</td>\n",
       "      <td>5.700000</td>\n",
       "      <td>5.710000</td>\n",
       "      <td>3.520000</td>\n",
       "    </tr>\n",
       "    <tr>\n",
       "      <th>75%</th>\n",
       "      <td>1.040000</td>\n",
       "      <td>62.500000</td>\n",
       "      <td>59.000000</td>\n",
       "      <td>5294.000000</td>\n",
       "      <td>6.540000</td>\n",
       "      <td>6.530000</td>\n",
       "      <td>4.030000</td>\n",
       "    </tr>\n",
       "    <tr>\n",
       "      <th>max</th>\n",
       "      <td>5.010000</td>\n",
       "      <td>79.000000</td>\n",
       "      <td>95.000000</td>\n",
       "      <td>18823.000000</td>\n",
       "      <td>10.740000</td>\n",
       "      <td>58.900000</td>\n",
       "      <td>31.800000</td>\n",
       "    </tr>\n",
       "  </tbody>\n",
       "</table>\n",
       "</div>"
      ],
      "text/plain": [
       "              carat         depth         table         price             x  \\\n",
       "count  37758.000000  37758.000000  37758.000000  37758.000000  37758.000000   \n",
       "mean       0.797883     61.747548     57.452537   3935.724588      5.731350   \n",
       "std        0.473971      1.431517      2.230732   3995.660835      1.121605   \n",
       "min        0.200000     43.000000     44.000000    326.000000      0.000000   \n",
       "25%        0.400000     61.000000     56.000000    954.000000      4.720000   \n",
       "50%        0.700000     61.800000     57.000000   2409.000000      5.700000   \n",
       "75%        1.040000     62.500000     59.000000   5294.000000      6.540000   \n",
       "max        5.010000     79.000000     95.000000  18823.000000     10.740000   \n",
       "\n",
       "                  y             z  \n",
       "count  37758.000000  37758.000000  \n",
       "mean       5.734758      3.538770  \n",
       "std        1.146157      0.710144  \n",
       "min        0.000000      0.000000  \n",
       "25%        4.730000      2.910000  \n",
       "50%        5.710000      3.520000  \n",
       "75%        6.530000      4.030000  \n",
       "max       58.900000     31.800000  "
      ]
     },
     "execution_count": 26,
     "metadata": {},
     "output_type": "execute_result"
    }
   ],
   "source": [
    "X_train.describe()"
   ]
  },
  {
   "cell_type": "code",
   "execution_count": 27,
   "id": "10e390c9-049c-44a9-93f0-2892d358f8c0",
   "metadata": {},
   "outputs": [],
   "source": [
    "X_train.loc[:,:] = sd.transform(X_train)"
   ]
  },
  {
   "cell_type": "code",
   "execution_count": 28,
   "id": "460590ea-2481-4cbe-b70c-96e65b2f8b7d",
   "metadata": {},
   "outputs": [
    {
     "data": {
      "text/html": [
       "<div>\n",
       "<style scoped>\n",
       "    .dataframe tbody tr th:only-of-type {\n",
       "        vertical-align: middle;\n",
       "    }\n",
       "\n",
       "    .dataframe tbody tr th {\n",
       "        vertical-align: top;\n",
       "    }\n",
       "\n",
       "    .dataframe thead th {\n",
       "        text-align: right;\n",
       "    }\n",
       "</style>\n",
       "<table border=\"1\" class=\"dataframe\">\n",
       "  <thead>\n",
       "    <tr style=\"text-align: right;\">\n",
       "      <th></th>\n",
       "      <th>carat</th>\n",
       "      <th>depth</th>\n",
       "      <th>table</th>\n",
       "      <th>price</th>\n",
       "      <th>x</th>\n",
       "      <th>y</th>\n",
       "      <th>z</th>\n",
       "      <th>cut_Fair</th>\n",
       "      <th>cut_Good</th>\n",
       "      <th>cut_Ideal</th>\n",
       "      <th>...</th>\n",
       "      <th>color_I</th>\n",
       "      <th>color_J</th>\n",
       "      <th>clarity_I1</th>\n",
       "      <th>clarity_IF</th>\n",
       "      <th>clarity_SI1</th>\n",
       "      <th>clarity_SI2</th>\n",
       "      <th>clarity_VS1</th>\n",
       "      <th>clarity_VS2</th>\n",
       "      <th>clarity_VVS1</th>\n",
       "      <th>clarity_VVS2</th>\n",
       "    </tr>\n",
       "  </thead>\n",
       "  <tbody>\n",
       "    <tr>\n",
       "      <th>count</th>\n",
       "      <td>3.775800e+04</td>\n",
       "      <td>3.775800e+04</td>\n",
       "      <td>3.775800e+04</td>\n",
       "      <td>3.775800e+04</td>\n",
       "      <td>3.775800e+04</td>\n",
       "      <td>3.775800e+04</td>\n",
       "      <td>3.775800e+04</td>\n",
       "      <td>3.775800e+04</td>\n",
       "      <td>3.775800e+04</td>\n",
       "      <td>3.775800e+04</td>\n",
       "      <td>...</td>\n",
       "      <td>3.775800e+04</td>\n",
       "      <td>3.775800e+04</td>\n",
       "      <td>3.775800e+04</td>\n",
       "      <td>3.775800e+04</td>\n",
       "      <td>3.775800e+04</td>\n",
       "      <td>3.775800e+04</td>\n",
       "      <td>3.775800e+04</td>\n",
       "      <td>3.775800e+04</td>\n",
       "      <td>3.775800e+04</td>\n",
       "      <td>3.775800e+04</td>\n",
       "    </tr>\n",
       "    <tr>\n",
       "      <th>mean</th>\n",
       "      <td>-5.269134e-17</td>\n",
       "      <td>-4.961266e-15</td>\n",
       "      <td>1.851160e-15</td>\n",
       "      <td>-4.215307e-17</td>\n",
       "      <td>4.685766e-16</td>\n",
       "      <td>2.657149e-16</td>\n",
       "      <td>4.945459e-16</td>\n",
       "      <td>-8.468251e-18</td>\n",
       "      <td>-6.134778e-17</td>\n",
       "      <td>3.603711e-17</td>\n",
       "      <td>...</td>\n",
       "      <td>3.199117e-18</td>\n",
       "      <td>6.736964e-17</td>\n",
       "      <td>2.709840e-17</td>\n",
       "      <td>6.097141e-17</td>\n",
       "      <td>-8.280068e-18</td>\n",
       "      <td>3.914214e-17</td>\n",
       "      <td>-1.806560e-17</td>\n",
       "      <td>1.147919e-17</td>\n",
       "      <td>3.801304e-17</td>\n",
       "      <td>-7.903701e-18</td>\n",
       "    </tr>\n",
       "    <tr>\n",
       "      <th>std</th>\n",
       "      <td>1.000013e+00</td>\n",
       "      <td>1.000013e+00</td>\n",
       "      <td>1.000013e+00</td>\n",
       "      <td>1.000013e+00</td>\n",
       "      <td>1.000013e+00</td>\n",
       "      <td>1.000013e+00</td>\n",
       "      <td>1.000013e+00</td>\n",
       "      <td>1.000013e+00</td>\n",
       "      <td>1.000013e+00</td>\n",
       "      <td>1.000013e+00</td>\n",
       "      <td>...</td>\n",
       "      <td>1.000013e+00</td>\n",
       "      <td>1.000013e+00</td>\n",
       "      <td>1.000013e+00</td>\n",
       "      <td>1.000013e+00</td>\n",
       "      <td>1.000013e+00</td>\n",
       "      <td>1.000013e+00</td>\n",
       "      <td>1.000013e+00</td>\n",
       "      <td>1.000013e+00</td>\n",
       "      <td>1.000013e+00</td>\n",
       "      <td>1.000013e+00</td>\n",
       "    </tr>\n",
       "    <tr>\n",
       "      <th>min</th>\n",
       "      <td>-1.261451e+00</td>\n",
       "      <td>-1.309646e+01</td>\n",
       "      <td>-6.030630e+00</td>\n",
       "      <td>-9.034231e-01</td>\n",
       "      <td>-5.110023e+00</td>\n",
       "      <td>-5.003531e+00</td>\n",
       "      <td>-4.983241e+00</td>\n",
       "      <td>-1.748409e-01</td>\n",
       "      <td>-3.142708e-01</td>\n",
       "      <td>-8.194642e-01</td>\n",
       "      <td>...</td>\n",
       "      <td>-3.343721e-01</td>\n",
       "      <td>-2.315250e-01</td>\n",
       "      <td>-1.179397e-01</td>\n",
       "      <td>-1.840405e-01</td>\n",
       "      <td>-5.649735e-01</td>\n",
       "      <td>-4.569860e-01</td>\n",
       "      <td>-4.225376e-01</td>\n",
       "      <td>-5.393662e-01</td>\n",
       "      <td>-2.691221e-01</td>\n",
       "      <td>-3.228949e-01</td>\n",
       "    </tr>\n",
       "    <tr>\n",
       "      <th>25%</th>\n",
       "      <td>-8.394779e-01</td>\n",
       "      <td>-5.222135e-01</td>\n",
       "      <td>-6.511570e-01</td>\n",
       "      <td>-7.462505e-01</td>\n",
       "      <td>-9.017108e-01</td>\n",
       "      <td>-8.766431e-01</td>\n",
       "      <td>-8.854246e-01</td>\n",
       "      <td>-1.748409e-01</td>\n",
       "      <td>-3.142708e-01</td>\n",
       "      <td>-8.194642e-01</td>\n",
       "      <td>...</td>\n",
       "      <td>-3.343721e-01</td>\n",
       "      <td>-2.315250e-01</td>\n",
       "      <td>-1.179397e-01</td>\n",
       "      <td>-1.840405e-01</td>\n",
       "      <td>-5.649735e-01</td>\n",
       "      <td>-4.569860e-01</td>\n",
       "      <td>-4.225376e-01</td>\n",
       "      <td>-5.393662e-01</td>\n",
       "      <td>-2.691221e-01</td>\n",
       "      <td>-3.228949e-01</td>\n",
       "    </tr>\n",
       "    <tr>\n",
       "      <th>50%</th>\n",
       "      <td>-2.065189e-01</td>\n",
       "      <td>3.664166e-02</td>\n",
       "      <td>-2.028676e-01</td>\n",
       "      <td>-3.821007e-01</td>\n",
       "      <td>-2.795108e-02</td>\n",
       "      <td>-2.160087e-02</td>\n",
       "      <td>-2.643208e-02</td>\n",
       "      <td>-1.748409e-01</td>\n",
       "      <td>-3.142708e-01</td>\n",
       "      <td>-8.194642e-01</td>\n",
       "      <td>...</td>\n",
       "      <td>-3.343721e-01</td>\n",
       "      <td>-2.315250e-01</td>\n",
       "      <td>-1.179397e-01</td>\n",
       "      <td>-1.840405e-01</td>\n",
       "      <td>-5.649735e-01</td>\n",
       "      <td>-4.569860e-01</td>\n",
       "      <td>-4.225376e-01</td>\n",
       "      <td>-5.393662e-01</td>\n",
       "      <td>-2.691221e-01</td>\n",
       "      <td>-3.228949e-01</td>\n",
       "    </tr>\n",
       "    <tr>\n",
       "      <th>75%</th>\n",
       "      <td>5.108347e-01</td>\n",
       "      <td>5.256400e-01</td>\n",
       "      <td>6.937111e-01</td>\n",
       "      <td>3.399421e-01</td>\n",
       "      <td>7.209858e-01</td>\n",
       "      <td>6.938426e-01</td>\n",
       "      <td>6.917420e-01</td>\n",
       "      <td>-1.748409e-01</td>\n",
       "      <td>-3.142708e-01</td>\n",
       "      <td>1.220310e+00</td>\n",
       "      <td>...</td>\n",
       "      <td>-3.343721e-01</td>\n",
       "      <td>-2.315250e-01</td>\n",
       "      <td>-1.179397e-01</td>\n",
       "      <td>-1.840405e-01</td>\n",
       "      <td>-5.649735e-01</td>\n",
       "      <td>-4.569860e-01</td>\n",
       "      <td>-4.225376e-01</td>\n",
       "      <td>-5.393662e-01</td>\n",
       "      <td>-2.691221e-01</td>\n",
       "      <td>-3.228949e-01</td>\n",
       "    </tr>\n",
       "    <tr>\n",
       "      <th>max</th>\n",
       "      <td>8.886993e+00</td>\n",
       "      <td>1.205203e+01</td>\n",
       "      <td>1.683213e+01</td>\n",
       "      <td>3.725910e+00</td>\n",
       "      <td>4.465670e+00</td>\n",
       "      <td>4.638625e+01</td>\n",
       "      <td>3.979702e+01</td>\n",
       "      <td>5.719484e+00</td>\n",
       "      <td>3.181969e+00</td>\n",
       "      <td>1.220310e+00</td>\n",
       "      <td>...</td>\n",
       "      <td>2.990680e+00</td>\n",
       "      <td>4.319188e+00</td>\n",
       "      <td>8.478909e+00</td>\n",
       "      <td>5.433585e+00</td>\n",
       "      <td>1.769995e+00</td>\n",
       "      <td>2.188251e+00</td>\n",
       "      <td>2.366654e+00</td>\n",
       "      <td>1.854028e+00</td>\n",
       "      <td>3.715785e+00</td>\n",
       "      <td>3.096983e+00</td>\n",
       "    </tr>\n",
       "  </tbody>\n",
       "</table>\n",
       "<p>8 rows × 27 columns</p>\n",
       "</div>"
      ],
      "text/plain": [
       "              carat         depth         table         price             x  \\\n",
       "count  3.775800e+04  3.775800e+04  3.775800e+04  3.775800e+04  3.775800e+04   \n",
       "mean  -5.269134e-17 -4.961266e-15  1.851160e-15 -4.215307e-17  4.685766e-16   \n",
       "std    1.000013e+00  1.000013e+00  1.000013e+00  1.000013e+00  1.000013e+00   \n",
       "min   -1.261451e+00 -1.309646e+01 -6.030630e+00 -9.034231e-01 -5.110023e+00   \n",
       "25%   -8.394779e-01 -5.222135e-01 -6.511570e-01 -7.462505e-01 -9.017108e-01   \n",
       "50%   -2.065189e-01  3.664166e-02 -2.028676e-01 -3.821007e-01 -2.795108e-02   \n",
       "75%    5.108347e-01  5.256400e-01  6.937111e-01  3.399421e-01  7.209858e-01   \n",
       "max    8.886993e+00  1.205203e+01  1.683213e+01  3.725910e+00  4.465670e+00   \n",
       "\n",
       "                  y             z      cut_Fair      cut_Good     cut_Ideal  \\\n",
       "count  3.775800e+04  3.775800e+04  3.775800e+04  3.775800e+04  3.775800e+04   \n",
       "mean   2.657149e-16  4.945459e-16 -8.468251e-18 -6.134778e-17  3.603711e-17   \n",
       "std    1.000013e+00  1.000013e+00  1.000013e+00  1.000013e+00  1.000013e+00   \n",
       "min   -5.003531e+00 -4.983241e+00 -1.748409e-01 -3.142708e-01 -8.194642e-01   \n",
       "25%   -8.766431e-01 -8.854246e-01 -1.748409e-01 -3.142708e-01 -8.194642e-01   \n",
       "50%   -2.160087e-02 -2.643208e-02 -1.748409e-01 -3.142708e-01 -8.194642e-01   \n",
       "75%    6.938426e-01  6.917420e-01 -1.748409e-01 -3.142708e-01  1.220310e+00   \n",
       "max    4.638625e+01  3.979702e+01  5.719484e+00  3.181969e+00  1.220310e+00   \n",
       "\n",
       "       ...       color_I       color_J    clarity_I1    clarity_IF  \\\n",
       "count  ...  3.775800e+04  3.775800e+04  3.775800e+04  3.775800e+04   \n",
       "mean   ...  3.199117e-18  6.736964e-17  2.709840e-17  6.097141e-17   \n",
       "std    ...  1.000013e+00  1.000013e+00  1.000013e+00  1.000013e+00   \n",
       "min    ... -3.343721e-01 -2.315250e-01 -1.179397e-01 -1.840405e-01   \n",
       "25%    ... -3.343721e-01 -2.315250e-01 -1.179397e-01 -1.840405e-01   \n",
       "50%    ... -3.343721e-01 -2.315250e-01 -1.179397e-01 -1.840405e-01   \n",
       "75%    ... -3.343721e-01 -2.315250e-01 -1.179397e-01 -1.840405e-01   \n",
       "max    ...  2.990680e+00  4.319188e+00  8.478909e+00  5.433585e+00   \n",
       "\n",
       "        clarity_SI1   clarity_SI2   clarity_VS1   clarity_VS2  clarity_VVS1  \\\n",
       "count  3.775800e+04  3.775800e+04  3.775800e+04  3.775800e+04  3.775800e+04   \n",
       "mean  -8.280068e-18  3.914214e-17 -1.806560e-17  1.147919e-17  3.801304e-17   \n",
       "std    1.000013e+00  1.000013e+00  1.000013e+00  1.000013e+00  1.000013e+00   \n",
       "min   -5.649735e-01 -4.569860e-01 -4.225376e-01 -5.393662e-01 -2.691221e-01   \n",
       "25%   -5.649735e-01 -4.569860e-01 -4.225376e-01 -5.393662e-01 -2.691221e-01   \n",
       "50%   -5.649735e-01 -4.569860e-01 -4.225376e-01 -5.393662e-01 -2.691221e-01   \n",
       "75%   -5.649735e-01 -4.569860e-01 -4.225376e-01 -5.393662e-01 -2.691221e-01   \n",
       "max    1.769995e+00  2.188251e+00  2.366654e+00  1.854028e+00  3.715785e+00   \n",
       "\n",
       "       clarity_VVS2  \n",
       "count  3.775800e+04  \n",
       "mean  -7.903701e-18  \n",
       "std    1.000013e+00  \n",
       "min   -3.228949e-01  \n",
       "25%   -3.228949e-01  \n",
       "50%   -3.228949e-01  \n",
       "75%   -3.228949e-01  \n",
       "max    3.096983e+00  \n",
       "\n",
       "[8 rows x 27 columns]"
      ]
     },
     "execution_count": 28,
     "metadata": {},
     "output_type": "execute_result"
    }
   ],
   "source": [
    "X_train.describe()"
   ]
  },
  {
   "cell_type": "code",
   "execution_count": 29,
   "id": "fca6de5d-772e-457d-adde-54d4dbd8b1b5",
   "metadata": {},
   "outputs": [
    {
     "data": {
      "text/html": [
       "<div>\n",
       "<style scoped>\n",
       "    .dataframe tbody tr th:only-of-type {\n",
       "        vertical-align: middle;\n",
       "    }\n",
       "\n",
       "    .dataframe tbody tr th {\n",
       "        vertical-align: top;\n",
       "    }\n",
       "\n",
       "    .dataframe thead th {\n",
       "        text-align: right;\n",
       "    }\n",
       "</style>\n",
       "<table border=\"1\" class=\"dataframe\">\n",
       "  <thead>\n",
       "    <tr style=\"text-align: right;\">\n",
       "      <th></th>\n",
       "      <th>carat</th>\n",
       "      <th>depth</th>\n",
       "      <th>table</th>\n",
       "      <th>price</th>\n",
       "      <th>x</th>\n",
       "      <th>y</th>\n",
       "      <th>z</th>\n",
       "    </tr>\n",
       "  </thead>\n",
       "  <tbody>\n",
       "    <tr>\n",
       "      <th>count</th>\n",
       "      <td>16182.000000</td>\n",
       "      <td>16182.000000</td>\n",
       "      <td>16182.000000</td>\n",
       "      <td>16182.000000</td>\n",
       "      <td>16182.000000</td>\n",
       "      <td>16182.000000</td>\n",
       "      <td>16182.000000</td>\n",
       "    </tr>\n",
       "    <tr>\n",
       "      <th>mean</th>\n",
       "      <td>0.798073</td>\n",
       "      <td>61.753739</td>\n",
       "      <td>57.468026</td>\n",
       "      <td>3925.975034</td>\n",
       "      <td>5.730708</td>\n",
       "      <td>5.733985</td>\n",
       "      <td>3.538648</td>\n",
       "    </tr>\n",
       "    <tr>\n",
       "      <th>std</th>\n",
       "      <td>0.474121</td>\n",
       "      <td>1.435230</td>\n",
       "      <td>2.243269</td>\n",
       "      <td>3975.000820</td>\n",
       "      <td>1.122159</td>\n",
       "      <td>1.132728</td>\n",
       "      <td>0.695239</td>\n",
       "    </tr>\n",
       "    <tr>\n",
       "      <th>min</th>\n",
       "      <td>0.200000</td>\n",
       "      <td>43.000000</td>\n",
       "      <td>43.000000</td>\n",
       "      <td>327.000000</td>\n",
       "      <td>0.000000</td>\n",
       "      <td>0.000000</td>\n",
       "      <td>0.000000</td>\n",
       "    </tr>\n",
       "    <tr>\n",
       "      <th>25%</th>\n",
       "      <td>0.400000</td>\n",
       "      <td>61.000000</td>\n",
       "      <td>56.000000</td>\n",
       "      <td>943.000000</td>\n",
       "      <td>4.700000</td>\n",
       "      <td>4.710000</td>\n",
       "      <td>2.910000</td>\n",
       "    </tr>\n",
       "    <tr>\n",
       "      <th>50%</th>\n",
       "      <td>0.700000</td>\n",
       "      <td>61.800000</td>\n",
       "      <td>57.000000</td>\n",
       "      <td>2387.000000</td>\n",
       "      <td>5.690000</td>\n",
       "      <td>5.710000</td>\n",
       "      <td>3.530000</td>\n",
       "    </tr>\n",
       "    <tr>\n",
       "      <th>75%</th>\n",
       "      <td>1.050000</td>\n",
       "      <td>62.500000</td>\n",
       "      <td>59.000000</td>\n",
       "      <td>5387.750000</td>\n",
       "      <td>6.540000</td>\n",
       "      <td>6.540000</td>\n",
       "      <td>4.040000</td>\n",
       "    </tr>\n",
       "    <tr>\n",
       "      <th>max</th>\n",
       "      <td>4.500000</td>\n",
       "      <td>72.200000</td>\n",
       "      <td>79.000000</td>\n",
       "      <td>18806.000000</td>\n",
       "      <td>10.230000</td>\n",
       "      <td>31.800000</td>\n",
       "      <td>6.720000</td>\n",
       "    </tr>\n",
       "  </tbody>\n",
       "</table>\n",
       "</div>"
      ],
      "text/plain": [
       "              carat         depth         table         price             x  \\\n",
       "count  16182.000000  16182.000000  16182.000000  16182.000000  16182.000000   \n",
       "mean       0.798073     61.753739     57.468026   3925.975034      5.730708   \n",
       "std        0.474121      1.435230      2.243269   3975.000820      1.122159   \n",
       "min        0.200000     43.000000     43.000000    327.000000      0.000000   \n",
       "25%        0.400000     61.000000     56.000000    943.000000      4.700000   \n",
       "50%        0.700000     61.800000     57.000000   2387.000000      5.690000   \n",
       "75%        1.050000     62.500000     59.000000   5387.750000      6.540000   \n",
       "max        4.500000     72.200000     79.000000  18806.000000     10.230000   \n",
       "\n",
       "                  y             z  \n",
       "count  16182.000000  16182.000000  \n",
       "mean       5.733985      3.538648  \n",
       "std        1.132728      0.695239  \n",
       "min        0.000000      0.000000  \n",
       "25%        4.710000      2.910000  \n",
       "50%        5.710000      3.530000  \n",
       "75%        6.540000      4.040000  \n",
       "max       31.800000      6.720000  "
      ]
     },
     "execution_count": 29,
     "metadata": {},
     "output_type": "execute_result"
    }
   ],
   "source": [
    "X_test.describe()"
   ]
  },
  {
   "cell_type": "code",
   "execution_count": 30,
   "id": "a96ba79d-5e4f-472a-a4b5-0364f7e0ac45",
   "metadata": {},
   "outputs": [],
   "source": [
    "X_test.loc[:,:] = sd.transform(X_test)"
   ]
  },
  {
   "cell_type": "code",
   "execution_count": 31,
   "id": "8fc0cb39-a3f3-407a-b29c-712f5b708331",
   "metadata": {},
   "outputs": [
    {
     "data": {
      "text/html": [
       "<div>\n",
       "<style scoped>\n",
       "    .dataframe tbody tr th:only-of-type {\n",
       "        vertical-align: middle;\n",
       "    }\n",
       "\n",
       "    .dataframe tbody tr th {\n",
       "        vertical-align: top;\n",
       "    }\n",
       "\n",
       "    .dataframe thead th {\n",
       "        text-align: right;\n",
       "    }\n",
       "</style>\n",
       "<table border=\"1\" class=\"dataframe\">\n",
       "  <thead>\n",
       "    <tr style=\"text-align: right;\">\n",
       "      <th></th>\n",
       "      <th>carat</th>\n",
       "      <th>depth</th>\n",
       "      <th>table</th>\n",
       "      <th>price</th>\n",
       "      <th>x</th>\n",
       "      <th>y</th>\n",
       "      <th>z</th>\n",
       "      <th>cut_Fair</th>\n",
       "      <th>cut_Good</th>\n",
       "      <th>cut_Ideal</th>\n",
       "      <th>...</th>\n",
       "      <th>color_I</th>\n",
       "      <th>color_J</th>\n",
       "      <th>clarity_I1</th>\n",
       "      <th>clarity_IF</th>\n",
       "      <th>clarity_SI1</th>\n",
       "      <th>clarity_SI2</th>\n",
       "      <th>clarity_VS1</th>\n",
       "      <th>clarity_VS2</th>\n",
       "      <th>clarity_VVS1</th>\n",
       "      <th>clarity_VVS2</th>\n",
       "    </tr>\n",
       "  </thead>\n",
       "  <tbody>\n",
       "    <tr>\n",
       "      <th>count</th>\n",
       "      <td>16182.000000</td>\n",
       "      <td>16182.000000</td>\n",
       "      <td>16182.000000</td>\n",
       "      <td>16182.000000</td>\n",
       "      <td>16182.000000</td>\n",
       "      <td>16182.000000</td>\n",
       "      <td>16182.000000</td>\n",
       "      <td>16182.000000</td>\n",
       "      <td>16182.000000</td>\n",
       "      <td>16182.000000</td>\n",
       "      <td>...</td>\n",
       "      <td>16182.000000</td>\n",
       "      <td>16182.000000</td>\n",
       "      <td>16182.000000</td>\n",
       "      <td>16182.000000</td>\n",
       "      <td>16182.000000</td>\n",
       "      <td>16182.000000</td>\n",
       "      <td>16182.000000</td>\n",
       "      <td>16182.000000</td>\n",
       "      <td>16182.000000</td>\n",
       "      <td>16182.000000</td>\n",
       "    </tr>\n",
       "    <tr>\n",
       "      <th>mean</th>\n",
       "      <td>0.000402</td>\n",
       "      <td>0.004325</td>\n",
       "      <td>0.006944</td>\n",
       "      <td>-0.002440</td>\n",
       "      <td>-0.000572</td>\n",
       "      <td>-0.000674</td>\n",
       "      <td>-0.000172</td>\n",
       "      <td>0.003643</td>\n",
       "      <td>0.012408</td>\n",
       "      <td>-0.015000</td>\n",
       "      <td>...</td>\n",
       "      <td>-0.000470</td>\n",
       "      <td>0.017918</td>\n",
       "      <td>0.000531</td>\n",
       "      <td>0.007935</td>\n",
       "      <td>0.001958</td>\n",
       "      <td>-0.020363</td>\n",
       "      <td>-0.000074</td>\n",
       "      <td>0.015129</td>\n",
       "      <td>0.002990</td>\n",
       "      <td>-0.005676</td>\n",
       "    </tr>\n",
       "    <tr>\n",
       "      <th>std</th>\n",
       "      <td>1.000330</td>\n",
       "      <td>1.002607</td>\n",
       "      <td>1.005634</td>\n",
       "      <td>0.994843</td>\n",
       "      <td>1.000508</td>\n",
       "      <td>0.988296</td>\n",
       "      <td>0.979025</td>\n",
       "      <td>1.010072</td>\n",
       "      <td>1.017591</td>\n",
       "      <td>0.996907</td>\n",
       "      <td>...</td>\n",
       "      <td>0.999407</td>\n",
       "      <td>1.035851</td>\n",
       "      <td>1.002249</td>\n",
       "      <td>1.020616</td>\n",
       "      <td>1.001208</td>\n",
       "      <td>0.982034</td>\n",
       "      <td>0.999959</td>\n",
       "      <td>1.009813</td>\n",
       "      <td>1.005167</td>\n",
       "      <td>0.992110</td>\n",
       "    </tr>\n",
       "    <tr>\n",
       "      <th>min</th>\n",
       "      <td>-1.261451</td>\n",
       "      <td>-13.096455</td>\n",
       "      <td>-6.478919</td>\n",
       "      <td>-0.903173</td>\n",
       "      <td>-5.110023</td>\n",
       "      <td>-5.003531</td>\n",
       "      <td>-4.983241</td>\n",
       "      <td>-0.174841</td>\n",
       "      <td>-0.314271</td>\n",
       "      <td>-0.819464</td>\n",
       "      <td>...</td>\n",
       "      <td>-0.334372</td>\n",
       "      <td>-0.231525</td>\n",
       "      <td>-0.117940</td>\n",
       "      <td>-0.184041</td>\n",
       "      <td>-0.564973</td>\n",
       "      <td>-0.456986</td>\n",
       "      <td>-0.422538</td>\n",
       "      <td>-0.539366</td>\n",
       "      <td>-0.269122</td>\n",
       "      <td>-0.322895</td>\n",
       "    </tr>\n",
       "    <tr>\n",
       "      <th>25%</th>\n",
       "      <td>-0.839478</td>\n",
       "      <td>-0.522214</td>\n",
       "      <td>-0.651157</td>\n",
       "      <td>-0.749004</td>\n",
       "      <td>-0.919543</td>\n",
       "      <td>-0.894093</td>\n",
       "      <td>-0.885425</td>\n",
       "      <td>-0.174841</td>\n",
       "      <td>-0.314271</td>\n",
       "      <td>-0.819464</td>\n",
       "      <td>...</td>\n",
       "      <td>-0.334372</td>\n",
       "      <td>-0.231525</td>\n",
       "      <td>-0.117940</td>\n",
       "      <td>-0.184041</td>\n",
       "      <td>-0.564973</td>\n",
       "      <td>-0.456986</td>\n",
       "      <td>-0.422538</td>\n",
       "      <td>-0.539366</td>\n",
       "      <td>-0.269122</td>\n",
       "      <td>-0.322895</td>\n",
       "    </tr>\n",
       "    <tr>\n",
       "      <th>50%</th>\n",
       "      <td>-0.206519</td>\n",
       "      <td>0.036642</td>\n",
       "      <td>-0.202868</td>\n",
       "      <td>-0.387607</td>\n",
       "      <td>-0.036867</td>\n",
       "      <td>-0.021601</td>\n",
       "      <td>-0.012350</td>\n",
       "      <td>-0.174841</td>\n",
       "      <td>-0.314271</td>\n",
       "      <td>-0.819464</td>\n",
       "      <td>...</td>\n",
       "      <td>-0.334372</td>\n",
       "      <td>-0.231525</td>\n",
       "      <td>-0.117940</td>\n",
       "      <td>-0.184041</td>\n",
       "      <td>-0.564973</td>\n",
       "      <td>-0.456986</td>\n",
       "      <td>-0.422538</td>\n",
       "      <td>-0.539366</td>\n",
       "      <td>-0.269122</td>\n",
       "      <td>-0.322895</td>\n",
       "    </tr>\n",
       "    <tr>\n",
       "      <th>75%</th>\n",
       "      <td>0.531933</td>\n",
       "      <td>0.525640</td>\n",
       "      <td>0.693711</td>\n",
       "      <td>0.363405</td>\n",
       "      <td>0.720986</td>\n",
       "      <td>0.702568</td>\n",
       "      <td>0.705824</td>\n",
       "      <td>-0.174841</td>\n",
       "      <td>-0.314271</td>\n",
       "      <td>1.220310</td>\n",
       "      <td>...</td>\n",
       "      <td>-0.334372</td>\n",
       "      <td>-0.231525</td>\n",
       "      <td>-0.117940</td>\n",
       "      <td>-0.184041</td>\n",
       "      <td>-0.564973</td>\n",
       "      <td>-0.456986</td>\n",
       "      <td>-0.422538</td>\n",
       "      <td>-0.539366</td>\n",
       "      <td>-0.269122</td>\n",
       "      <td>-0.322895</td>\n",
       "    </tr>\n",
       "    <tr>\n",
       "      <th>max</th>\n",
       "      <td>7.810962</td>\n",
       "      <td>7.301759</td>\n",
       "      <td>9.659499</td>\n",
       "      <td>3.721655</td>\n",
       "      <td>4.010959</td>\n",
       "      <td>22.741717</td>\n",
       "      <td>4.479758</td>\n",
       "      <td>5.719484</td>\n",
       "      <td>3.181969</td>\n",
       "      <td>1.220310</td>\n",
       "      <td>...</td>\n",
       "      <td>2.990680</td>\n",
       "      <td>4.319188</td>\n",
       "      <td>8.478909</td>\n",
       "      <td>5.433585</td>\n",
       "      <td>1.769995</td>\n",
       "      <td>2.188251</td>\n",
       "      <td>2.366654</td>\n",
       "      <td>1.854028</td>\n",
       "      <td>3.715785</td>\n",
       "      <td>3.096983</td>\n",
       "    </tr>\n",
       "  </tbody>\n",
       "</table>\n",
       "<p>8 rows × 27 columns</p>\n",
       "</div>"
      ],
      "text/plain": [
       "              carat         depth         table         price             x  \\\n",
       "count  16182.000000  16182.000000  16182.000000  16182.000000  16182.000000   \n",
       "mean       0.000402      0.004325      0.006944     -0.002440     -0.000572   \n",
       "std        1.000330      1.002607      1.005634      0.994843      1.000508   \n",
       "min       -1.261451    -13.096455     -6.478919     -0.903173     -5.110023   \n",
       "25%       -0.839478     -0.522214     -0.651157     -0.749004     -0.919543   \n",
       "50%       -0.206519      0.036642     -0.202868     -0.387607     -0.036867   \n",
       "75%        0.531933      0.525640      0.693711      0.363405      0.720986   \n",
       "max        7.810962      7.301759      9.659499      3.721655      4.010959   \n",
       "\n",
       "                  y             z      cut_Fair      cut_Good     cut_Ideal  \\\n",
       "count  16182.000000  16182.000000  16182.000000  16182.000000  16182.000000   \n",
       "mean      -0.000674     -0.000172      0.003643      0.012408     -0.015000   \n",
       "std        0.988296      0.979025      1.010072      1.017591      0.996907   \n",
       "min       -5.003531     -4.983241     -0.174841     -0.314271     -0.819464   \n",
       "25%       -0.894093     -0.885425     -0.174841     -0.314271     -0.819464   \n",
       "50%       -0.021601     -0.012350     -0.174841     -0.314271     -0.819464   \n",
       "75%        0.702568      0.705824     -0.174841     -0.314271      1.220310   \n",
       "max       22.741717      4.479758      5.719484      3.181969      1.220310   \n",
       "\n",
       "       ...       color_I       color_J    clarity_I1    clarity_IF  \\\n",
       "count  ...  16182.000000  16182.000000  16182.000000  16182.000000   \n",
       "mean   ...     -0.000470      0.017918      0.000531      0.007935   \n",
       "std    ...      0.999407      1.035851      1.002249      1.020616   \n",
       "min    ...     -0.334372     -0.231525     -0.117940     -0.184041   \n",
       "25%    ...     -0.334372     -0.231525     -0.117940     -0.184041   \n",
       "50%    ...     -0.334372     -0.231525     -0.117940     -0.184041   \n",
       "75%    ...     -0.334372     -0.231525     -0.117940     -0.184041   \n",
       "max    ...      2.990680      4.319188      8.478909      5.433585   \n",
       "\n",
       "        clarity_SI1   clarity_SI2   clarity_VS1   clarity_VS2  clarity_VVS1  \\\n",
       "count  16182.000000  16182.000000  16182.000000  16182.000000  16182.000000   \n",
       "mean       0.001958     -0.020363     -0.000074      0.015129      0.002990   \n",
       "std        1.001208      0.982034      0.999959      1.009813      1.005167   \n",
       "min       -0.564973     -0.456986     -0.422538     -0.539366     -0.269122   \n",
       "25%       -0.564973     -0.456986     -0.422538     -0.539366     -0.269122   \n",
       "50%       -0.564973     -0.456986     -0.422538     -0.539366     -0.269122   \n",
       "75%       -0.564973     -0.456986     -0.422538     -0.539366     -0.269122   \n",
       "max        1.769995      2.188251      2.366654      1.854028      3.715785   \n",
       "\n",
       "       clarity_VVS2  \n",
       "count  16182.000000  \n",
       "mean      -0.005676  \n",
       "std        0.992110  \n",
       "min       -0.322895  \n",
       "25%       -0.322895  \n",
       "50%       -0.322895  \n",
       "75%       -0.322895  \n",
       "max        3.096983  \n",
       "\n",
       "[8 rows x 27 columns]"
      ]
     },
     "execution_count": 31,
     "metadata": {},
     "output_type": "execute_result"
    }
   ],
   "source": [
    "X_test.describe()"
   ]
  },
  {
   "cell_type": "markdown",
   "id": "9ebad3a0-21d2-4909-b1ff-e368ad859a09",
   "metadata": {},
   "source": [
    "# k-means clustering"
   ]
  },
  {
   "cell_type": "code",
   "execution_count": 32,
   "id": "0abf0255-d47e-42c0-9465-dfb75db7d42d",
   "metadata": {},
   "outputs": [],
   "source": [
    "from sklearn.cluster import KMeans"
   ]
  },
  {
   "cell_type": "code",
   "execution_count": 33,
   "id": "e704119d-d1df-4627-b38f-9cac27adfc31",
   "metadata": {},
   "outputs": [],
   "source": [
    "mykmeans = KMeans(3, random_state=7)\n",
    "# bcoz user has given k=3 i.e. 3 clusters \n",
    "# it is calculating 3 centroids and calculate distance from those 3 "
   ]
  },
  {
   "cell_type": "code",
   "execution_count": 34,
   "id": "073d55cd-584d-4105-97bf-941d2d4fc707",
   "metadata": {},
   "outputs": [
    {
     "name": "stderr",
     "output_type": "stream",
     "text": [
      "C:\\Users\\alish\\AppData\\Local\\Programs\\Python\\Python311\\Lib\\site-packages\\sklearn\\cluster\\_kmeans.py:1416: FutureWarning: The default value of `n_init` will change from 10 to 'auto' in 1.4. Set the value of `n_init` explicitly to suppress the warning\n",
      "  super()._check_params_vs_input(X, default_n_init=10)\n"
     ]
    },
    {
     "data": {
      "text/html": [
       "<style>#sk-container-id-2 {color: black;}#sk-container-id-2 pre{padding: 0;}#sk-container-id-2 div.sk-toggleable {background-color: white;}#sk-container-id-2 label.sk-toggleable__label {cursor: pointer;display: block;width: 100%;margin-bottom: 0;padding: 0.3em;box-sizing: border-box;text-align: center;}#sk-container-id-2 label.sk-toggleable__label-arrow:before {content: \"▸\";float: left;margin-right: 0.25em;color: #696969;}#sk-container-id-2 label.sk-toggleable__label-arrow:hover:before {color: black;}#sk-container-id-2 div.sk-estimator:hover label.sk-toggleable__label-arrow:before {color: black;}#sk-container-id-2 div.sk-toggleable__content {max-height: 0;max-width: 0;overflow: hidden;text-align: left;background-color: #f0f8ff;}#sk-container-id-2 div.sk-toggleable__content pre {margin: 0.2em;color: black;border-radius: 0.25em;background-color: #f0f8ff;}#sk-container-id-2 input.sk-toggleable__control:checked~div.sk-toggleable__content {max-height: 200px;max-width: 100%;overflow: auto;}#sk-container-id-2 input.sk-toggleable__control:checked~label.sk-toggleable__label-arrow:before {content: \"▾\";}#sk-container-id-2 div.sk-estimator input.sk-toggleable__control:checked~label.sk-toggleable__label {background-color: #d4ebff;}#sk-container-id-2 div.sk-label input.sk-toggleable__control:checked~label.sk-toggleable__label {background-color: #d4ebff;}#sk-container-id-2 input.sk-hidden--visually {border: 0;clip: rect(1px 1px 1px 1px);clip: rect(1px, 1px, 1px, 1px);height: 1px;margin: -1px;overflow: hidden;padding: 0;position: absolute;width: 1px;}#sk-container-id-2 div.sk-estimator {font-family: monospace;background-color: #f0f8ff;border: 1px dotted black;border-radius: 0.25em;box-sizing: border-box;margin-bottom: 0.5em;}#sk-container-id-2 div.sk-estimator:hover {background-color: #d4ebff;}#sk-container-id-2 div.sk-parallel-item::after {content: \"\";width: 100%;border-bottom: 1px solid gray;flex-grow: 1;}#sk-container-id-2 div.sk-label:hover label.sk-toggleable__label {background-color: #d4ebff;}#sk-container-id-2 div.sk-serial::before {content: \"\";position: absolute;border-left: 1px solid gray;box-sizing: border-box;top: 0;bottom: 0;left: 50%;z-index: 0;}#sk-container-id-2 div.sk-serial {display: flex;flex-direction: column;align-items: center;background-color: white;padding-right: 0.2em;padding-left: 0.2em;position: relative;}#sk-container-id-2 div.sk-item {position: relative;z-index: 1;}#sk-container-id-2 div.sk-parallel {display: flex;align-items: stretch;justify-content: center;background-color: white;position: relative;}#sk-container-id-2 div.sk-item::before, #sk-container-id-2 div.sk-parallel-item::before {content: \"\";position: absolute;border-left: 1px solid gray;box-sizing: border-box;top: 0;bottom: 0;left: 50%;z-index: -1;}#sk-container-id-2 div.sk-parallel-item {display: flex;flex-direction: column;z-index: 1;position: relative;background-color: white;}#sk-container-id-2 div.sk-parallel-item:first-child::after {align-self: flex-end;width: 50%;}#sk-container-id-2 div.sk-parallel-item:last-child::after {align-self: flex-start;width: 50%;}#sk-container-id-2 div.sk-parallel-item:only-child::after {width: 0;}#sk-container-id-2 div.sk-dashed-wrapped {border: 1px dashed gray;margin: 0 0.4em 0.5em 0.4em;box-sizing: border-box;padding-bottom: 0.4em;background-color: white;}#sk-container-id-2 div.sk-label label {font-family: monospace;font-weight: bold;display: inline-block;line-height: 1.2em;}#sk-container-id-2 div.sk-label-container {text-align: center;}#sk-container-id-2 div.sk-container {/* jupyter's `normalize.less` sets `[hidden] { display: none; }` but bootstrap.min.css set `[hidden] { display: none !important; }` so we also need the `!important` here to be able to override the default hidden behavior on the sphinx rendered scikit-learn.org. See: https://github.com/scikit-learn/scikit-learn/issues/21755 */display: inline-block !important;position: relative;}#sk-container-id-2 div.sk-text-repr-fallback {display: none;}</style><div id=\"sk-container-id-2\" class=\"sk-top-container\"><div class=\"sk-text-repr-fallback\"><pre>KMeans(n_clusters=3, random_state=7)</pre><b>In a Jupyter environment, please rerun this cell to show the HTML representation or trust the notebook. <br />On GitHub, the HTML representation is unable to render, please try loading this page with nbviewer.org.</b></div><div class=\"sk-container\" hidden><div class=\"sk-item\"><div class=\"sk-estimator sk-toggleable\"><input class=\"sk-toggleable__control sk-hidden--visually\" id=\"sk-estimator-id-2\" type=\"checkbox\" checked><label for=\"sk-estimator-id-2\" class=\"sk-toggleable__label sk-toggleable__label-arrow\">KMeans</label><div class=\"sk-toggleable__content\"><pre>KMeans(n_clusters=3, random_state=7)</pre></div></div></div></div></div>"
      ],
      "text/plain": [
       "KMeans(n_clusters=3, random_state=7)"
      ]
     },
     "execution_count": 34,
     "metadata": {},
     "output_type": "execute_result"
    }
   ],
   "source": [
    "mykmeans.fit(X_train)"
   ]
  },
  {
   "cell_type": "code",
   "execution_count": 35,
   "id": "3bdc1797-1a80-4282-9cad-c7a9bf5ee93a",
   "metadata": {},
   "outputs": [],
   "source": [
    "# do the predictions/testing\n",
    "cluster_nos = mykmeans.predict(X_test)"
   ]
  },
  {
   "cell_type": "code",
   "execution_count": 36,
   "id": "c7897bdb-6b6d-4d71-84e5-cd8492a9d647",
   "metadata": {},
   "outputs": [
    {
     "data": {
      "text/plain": [
       "carat           -0.565196\n",
       "depth            1.014638\n",
       "table           -1.099446\n",
       "price           -0.707208\n",
       "x               -0.500495\n",
       "y               -0.484022\n",
       "z               -0.378478\n",
       "cut_Fair        -0.174841\n",
       "cut_Good        -0.314271\n",
       "cut_Ideal       -0.819464\n",
       "cut_Premium     -0.585078\n",
       "cut_Very Good    1.862933\n",
       "color_D         -0.382675\n",
       "color_E         -0.470519\n",
       "color_F          2.154199\n",
       "color_G         -0.512196\n",
       "color_H         -0.427402\n",
       "color_I         -0.334372\n",
       "color_J         -0.231525\n",
       "clarity_I1      -0.117940\n",
       "clarity_IF      -0.184041\n",
       "clarity_SI1     -0.564973\n",
       "clarity_SI2      2.188251\n",
       "clarity_VS1     -0.422538\n",
       "clarity_VS2     -0.539366\n",
       "clarity_VVS1    -0.269122\n",
       "clarity_VVS2    -0.322895\n",
       "Name: 40026, dtype: float64"
      ]
     },
     "execution_count": 36,
     "metadata": {},
     "output_type": "execute_result"
    }
   ],
   "source": [
    "X_test.iloc[0,:]"
   ]
  },
  {
   "cell_type": "code",
   "execution_count": 37,
   "id": "657b6665-ad3b-4613-ae2d-827532a5d580",
   "metadata": {},
   "outputs": [
    {
     "data": {
      "text/plain": [
       "2"
      ]
     },
     "execution_count": 37,
     "metadata": {},
     "output_type": "execute_result"
    }
   ],
   "source": [
    "cluster_nos[0]"
   ]
  },
  {
   "cell_type": "code",
   "execution_count": 38,
   "id": "1a42b96e-9170-47cb-95af-1b134492c7e9",
   "metadata": {},
   "outputs": [
    {
     "data": {
      "text/plain": [
       "((16182,), (16182, 27))"
      ]
     },
     "execution_count": 38,
     "metadata": {},
     "output_type": "execute_result"
    }
   ],
   "source": [
    "cluster_nos.shape, X_test.shape"
   ]
  },
  {
   "cell_type": "code",
   "execution_count": 39,
   "id": "0d0470f5-b572-4bb6-b5cc-11f1c406c122",
   "metadata": {},
   "outputs": [
    {
     "data": {
      "text/plain": [
       "(4569, 27)"
      ]
     },
     "execution_count": 39,
     "metadata": {},
     "output_type": "execute_result"
    }
   ],
   "source": [
    "X_test.loc[cluster_nos==0,:].shape"
   ]
  },
  {
   "cell_type": "code",
   "execution_count": 40,
   "id": "231f9daa-4e14-4e7c-a0e0-149df7d423ba",
   "metadata": {},
   "outputs": [
    {
     "data": {
      "text/plain": [
       "(6395, 27)"
      ]
     },
     "execution_count": 40,
     "metadata": {},
     "output_type": "execute_result"
    }
   ],
   "source": [
    "X_test.loc[cluster_nos==1,:].shape"
   ]
  },
  {
   "cell_type": "code",
   "execution_count": 41,
   "id": "dc31f370-6c1b-4515-a987-6920e86ddc21",
   "metadata": {},
   "outputs": [
    {
     "data": {
      "text/plain": [
       "(5218, 27)"
      ]
     },
     "execution_count": 41,
     "metadata": {},
     "output_type": "execute_result"
    }
   ],
   "source": [
    "X_test.loc[cluster_nos==2,:].shape"
   ]
  },
  {
   "cell_type": "code",
   "execution_count": 51,
   "id": "4e654f6f-31c5-4a4d-8f83-9d3b365b70f7",
   "metadata": {},
   "outputs": [
    {
     "name": "stderr",
     "output_type": "stream",
     "text": [
      "C:\\Users\\alish\\AppData\\Local\\Programs\\Python\\Python311\\Lib\\site-packages\\sklearn\\cluster\\_kmeans.py:1416: FutureWarning: The default value of `n_init` will change from 10 to 'auto' in 1.4. Set the value of `n_init` explicitly to suppress the warning\n",
      "  super()._check_params_vs_input(X, default_n_init=10)\n",
      "C:\\Users\\alish\\AppData\\Local\\Programs\\Python\\Python311\\Lib\\site-packages\\sklearn\\cluster\\_kmeans.py:1416: FutureWarning: The default value of `n_init` will change from 10 to 'auto' in 1.4. Set the value of `n_init` explicitly to suppress the warning\n",
      "  super()._check_params_vs_input(X, default_n_init=10)\n",
      "C:\\Users\\alish\\AppData\\Local\\Programs\\Python\\Python311\\Lib\\site-packages\\sklearn\\cluster\\_kmeans.py:1416: FutureWarning: The default value of `n_init` will change from 10 to 'auto' in 1.4. Set the value of `n_init` explicitly to suppress the warning\n",
      "  super()._check_params_vs_input(X, default_n_init=10)\n",
      "C:\\Users\\alish\\AppData\\Local\\Programs\\Python\\Python311\\Lib\\site-packages\\sklearn\\cluster\\_kmeans.py:1416: FutureWarning: The default value of `n_init` will change from 10 to 'auto' in 1.4. Set the value of `n_init` explicitly to suppress the warning\n",
      "  super()._check_params_vs_input(X, default_n_init=10)\n",
      "C:\\Users\\alish\\AppData\\Local\\Programs\\Python\\Python311\\Lib\\site-packages\\sklearn\\cluster\\_kmeans.py:1416: FutureWarning: The default value of `n_init` will change from 10 to 'auto' in 1.4. Set the value of `n_init` explicitly to suppress the warning\n",
      "  super()._check_params_vs_input(X, default_n_init=10)\n",
      "C:\\Users\\alish\\AppData\\Local\\Programs\\Python\\Python311\\Lib\\site-packages\\sklearn\\cluster\\_kmeans.py:1416: FutureWarning: The default value of `n_init` will change from 10 to 'auto' in 1.4. Set the value of `n_init` explicitly to suppress the warning\n",
      "  super()._check_params_vs_input(X, default_n_init=10)\n",
      "C:\\Users\\alish\\AppData\\Local\\Programs\\Python\\Python311\\Lib\\site-packages\\sklearn\\cluster\\_kmeans.py:1416: FutureWarning: The default value of `n_init` will change from 10 to 'auto' in 1.4. Set the value of `n_init` explicitly to suppress the warning\n",
      "  super()._check_params_vs_input(X, default_n_init=10)\n",
      "C:\\Users\\alish\\AppData\\Local\\Programs\\Python\\Python311\\Lib\\site-packages\\sklearn\\cluster\\_kmeans.py:1416: FutureWarning: The default value of `n_init` will change from 10 to 'auto' in 1.4. Set the value of `n_init` explicitly to suppress the warning\n",
      "  super()._check_params_vs_input(X, default_n_init=10)\n",
      "C:\\Users\\alish\\AppData\\Local\\Programs\\Python\\Python311\\Lib\\site-packages\\sklearn\\cluster\\_kmeans.py:1416: FutureWarning: The default value of `n_init` will change from 10 to 'auto' in 1.4. Set the value of `n_init` explicitly to suppress the warning\n",
      "  super()._check_params_vs_input(X, default_n_init=10)\n",
      "C:\\Users\\alish\\AppData\\Local\\Programs\\Python\\Python311\\Lib\\site-packages\\sklearn\\cluster\\_kmeans.py:1416: FutureWarning: The default value of `n_init` will change from 10 to 'auto' in 1.4. Set the value of `n_init` explicitly to suppress the warning\n",
      "  super()._check_params_vs_input(X, default_n_init=10)\n",
      "C:\\Users\\alish\\AppData\\Local\\Programs\\Python\\Python311\\Lib\\site-packages\\sklearn\\cluster\\_kmeans.py:1416: FutureWarning: The default value of `n_init` will change from 10 to 'auto' in 1.4. Set the value of `n_init` explicitly to suppress the warning\n",
      "  super()._check_params_vs_input(X, default_n_init=10)\n",
      "C:\\Users\\alish\\AppData\\Local\\Programs\\Python\\Python311\\Lib\\site-packages\\sklearn\\cluster\\_kmeans.py:1416: FutureWarning: The default value of `n_init` will change from 10 to 'auto' in 1.4. Set the value of `n_init` explicitly to suppress the warning\n",
      "  super()._check_params_vs_input(X, default_n_init=10)\n",
      "C:\\Users\\alish\\AppData\\Local\\Programs\\Python\\Python311\\Lib\\site-packages\\sklearn\\cluster\\_kmeans.py:1416: FutureWarning: The default value of `n_init` will change from 10 to 'auto' in 1.4. Set the value of `n_init` explicitly to suppress the warning\n",
      "  super()._check_params_vs_input(X, default_n_init=10)\n",
      "C:\\Users\\alish\\AppData\\Local\\Programs\\Python\\Python311\\Lib\\site-packages\\sklearn\\cluster\\_kmeans.py:1416: FutureWarning: The default value of `n_init` will change from 10 to 'auto' in 1.4. Set the value of `n_init` explicitly to suppress the warning\n",
      "  super()._check_params_vs_input(X, default_n_init=10)\n",
      "C:\\Users\\alish\\AppData\\Local\\Programs\\Python\\Python311\\Lib\\site-packages\\sklearn\\cluster\\_kmeans.py:1416: FutureWarning: The default value of `n_init` will change from 10 to 'auto' in 1.4. Set the value of `n_init` explicitly to suppress the warning\n",
      "  super()._check_params_vs_input(X, default_n_init=10)\n",
      "C:\\Users\\alish\\AppData\\Local\\Programs\\Python\\Python311\\Lib\\site-packages\\sklearn\\cluster\\_kmeans.py:1416: FutureWarning: The default value of `n_init` will change from 10 to 'auto' in 1.4. Set the value of `n_init` explicitly to suppress the warning\n",
      "  super()._check_params_vs_input(X, default_n_init=10)\n",
      "C:\\Users\\alish\\AppData\\Local\\Programs\\Python\\Python311\\Lib\\site-packages\\sklearn\\cluster\\_kmeans.py:1416: FutureWarning: The default value of `n_init` will change from 10 to 'auto' in 1.4. Set the value of `n_init` explicitly to suppress the warning\n",
      "  super()._check_params_vs_input(X, default_n_init=10)\n",
      "C:\\Users\\alish\\AppData\\Local\\Programs\\Python\\Python311\\Lib\\site-packages\\sklearn\\cluster\\_kmeans.py:1416: FutureWarning: The default value of `n_init` will change from 10 to 'auto' in 1.4. Set the value of `n_init` explicitly to suppress the warning\n",
      "  super()._check_params_vs_input(X, default_n_init=10)\n",
      "C:\\Users\\alish\\AppData\\Local\\Programs\\Python\\Python311\\Lib\\site-packages\\sklearn\\cluster\\_kmeans.py:1416: FutureWarning: The default value of `n_init` will change from 10 to 'auto' in 1.4. Set the value of `n_init` explicitly to suppress the warning\n",
      "  super()._check_params_vs_input(X, default_n_init=10)\n",
      "C:\\Users\\alish\\AppData\\Local\\Programs\\Python\\Python311\\Lib\\site-packages\\sklearn\\cluster\\_kmeans.py:1416: FutureWarning: The default value of `n_init` will change from 10 to 'auto' in 1.4. Set the value of `n_init` explicitly to suppress the warning\n",
      "  super()._check_params_vs_input(X, default_n_init=10)\n",
      "C:\\Users\\alish\\AppData\\Local\\Programs\\Python\\Python311\\Lib\\site-packages\\sklearn\\cluster\\_kmeans.py:1416: FutureWarning: The default value of `n_init` will change from 10 to 'auto' in 1.4. Set the value of `n_init` explicitly to suppress the warning\n",
      "  super()._check_params_vs_input(X, default_n_init=10)\n",
      "C:\\Users\\alish\\AppData\\Local\\Programs\\Python\\Python311\\Lib\\site-packages\\sklearn\\cluster\\_kmeans.py:1416: FutureWarning: The default value of `n_init` will change from 10 to 'auto' in 1.4. Set the value of `n_init` explicitly to suppress the warning\n",
      "  super()._check_params_vs_input(X, default_n_init=10)\n",
      "C:\\Users\\alish\\AppData\\Local\\Programs\\Python\\Python311\\Lib\\site-packages\\sklearn\\cluster\\_kmeans.py:1416: FutureWarning: The default value of `n_init` will change from 10 to 'auto' in 1.4. Set the value of `n_init` explicitly to suppress the warning\n",
      "  super()._check_params_vs_input(X, default_n_init=10)\n",
      "C:\\Users\\alish\\AppData\\Local\\Programs\\Python\\Python311\\Lib\\site-packages\\sklearn\\cluster\\_kmeans.py:1416: FutureWarning: The default value of `n_init` will change from 10 to 'auto' in 1.4. Set the value of `n_init` explicitly to suppress the warning\n",
      "  super()._check_params_vs_input(X, default_n_init=10)\n",
      "C:\\Users\\alish\\AppData\\Local\\Programs\\Python\\Python311\\Lib\\site-packages\\sklearn\\cluster\\_kmeans.py:1416: FutureWarning: The default value of `n_init` will change from 10 to 'auto' in 1.4. Set the value of `n_init` explicitly to suppress the warning\n",
      "  super()._check_params_vs_input(X, default_n_init=10)\n",
      "C:\\Users\\alish\\AppData\\Local\\Programs\\Python\\Python311\\Lib\\site-packages\\sklearn\\cluster\\_kmeans.py:1416: FutureWarning: The default value of `n_init` will change from 10 to 'auto' in 1.4. Set the value of `n_init` explicitly to suppress the warning\n",
      "  super()._check_params_vs_input(X, default_n_init=10)\n",
      "C:\\Users\\alish\\AppData\\Local\\Programs\\Python\\Python311\\Lib\\site-packages\\sklearn\\cluster\\_kmeans.py:1416: FutureWarning: The default value of `n_init` will change from 10 to 'auto' in 1.4. Set the value of `n_init` explicitly to suppress the warning\n",
      "  super()._check_params_vs_input(X, default_n_init=10)\n",
      "C:\\Users\\alish\\AppData\\Local\\Programs\\Python\\Python311\\Lib\\site-packages\\sklearn\\cluster\\_kmeans.py:1416: FutureWarning: The default value of `n_init` will change from 10 to 'auto' in 1.4. Set the value of `n_init` explicitly to suppress the warning\n",
      "  super()._check_params_vs_input(X, default_n_init=10)\n",
      "C:\\Users\\alish\\AppData\\Local\\Programs\\Python\\Python311\\Lib\\site-packages\\sklearn\\cluster\\_kmeans.py:1416: FutureWarning: The default value of `n_init` will change from 10 to 'auto' in 1.4. Set the value of `n_init` explicitly to suppress the warning\n",
      "  super()._check_params_vs_input(X, default_n_init=10)\n"
     ]
    }
   ],
   "source": [
    "inertia_values = []\n",
    "for k in range(2,31):\n",
    "    mykmeans = KMeans(k,random_state=7)\n",
    "    mykmeans.fit(X_train)\n",
    "    inertia_values.append(mykmeans.inertia_)"
   ]
  },
  {
   "cell_type": "code",
   "execution_count": 52,
   "id": "c96323b4-5a74-42af-a1fa-5fcf2facdea6",
   "metadata": {},
   "outputs": [
    {
     "data": {
      "text/plain": [
       "[882121.2200555103,\n",
       " 839541.7683634197,\n",
       " 803316.2389601825,\n",
       " 777179.9197143858,\n",
       " 743951.4214137017,\n",
       " 704670.3895826109,\n",
       " 680096.3672800318,\n",
       " 652330.5924530488,\n",
       " 623942.5995687552,\n",
       " 592373.8566241213,\n",
       " 576744.3899988171,\n",
       " 564589.8232266024,\n",
       " 539197.9035479001,\n",
       " 521910.04987030174,\n",
       " 510505.2516836238,\n",
       " 499792.6112785401,\n",
       " 490673.92647767614,\n",
       " 481770.8651476875,\n",
       " 476959.27219272626,\n",
       " 468002.69737596397,\n",
       " 463213.01830195927,\n",
       " 457526.7147393711,\n",
       " 451826.9109287608,\n",
       " 444187.58907706663,\n",
       " 436828.7599650887,\n",
       " 430988.11027898587,\n",
       " 428690.78820760397,\n",
       " 422050.98881108634,\n",
       " 417210.2961590915]"
      ]
     },
     "execution_count": 52,
     "metadata": {},
     "output_type": "execute_result"
    }
   ],
   "source": [
    "inertia_values"
   ]
  },
  {
   "cell_type": "code",
   "execution_count": 53,
   "id": "84cb4b3d-b6b9-4bae-91f4-a714bc0cf494",
   "metadata": {},
   "outputs": [
    {
     "data": {
      "text/plain": [
       "[<matplotlib.lines.Line2D at 0x2cf7fbf8210>]"
      ]
     },
     "execution_count": 53,
     "metadata": {},
     "output_type": "execute_result"
    },
    {
     "data": {
      "image/png": "[encoded data removed]",
      "text/plain": [
       "<Figure size 640x480 with 1 Axes>"
      ]
     },
     "metadata": {},
     "output_type": "display_data"
    }
   ],
   "source": [
    "import matplotlib.pyplot as plt\n",
    "plt.plot(list(range(2,31)), inertia_values)"
   ]
  },
  {
   "cell_type": "markdown",
   "id": "357d6180-01b8-4bb2-8c7d-9c5809d1eaaf",
   "metadata": {},
   "source": [
    "# evaluation parameters"
   ]
  },
  {
   "cell_type": "code",
   "execution_count": 45,
   "id": "a5ef6a42-89e3-4d02-bfc4-1ead23e5806a",
   "metadata": {},
   "outputs": [],
   "source": [
    "from sklearn.metrics import silhouette_score"
   ]
  },
  {
   "cell_type": "code",
   "execution_count": 46,
   "id": "3f39a348-e094-4e40-b82e-199df1074a59",
   "metadata": {},
   "outputs": [
    {
     "data": {
      "text/plain": [
       "0.08288491221345808"
      ]
     },
     "execution_count": 46,
     "metadata": {},
     "output_type": "execute_result"
    }
   ],
   "source": [
    "# two parameters to silhouette_score\n",
    "# X : X_test data\n",
    "# labels : cluster numbers predicted by the algorithm\n",
    "\n",
    "silhouette_score(X_test, cluster_nos)"
   ]
  },
  {
   "cell_type": "code",
   "execution_count": 54,
   "id": "91e8e8c9-8c86-45fe-a48e-9cbf2438b793",
   "metadata": {},
   "outputs": [],
   "source": [
    "df_new = X_test[['x','y','z']]"
   ]
  },
  {
   "cell_type": "code",
   "execution_count": 55,
   "id": "eb303996-eae5-45ed-b769-c5f7a14ee600",
   "metadata": {},
   "outputs": [
    {
     "data": {
      "text/html": [
       "<div>\n",
       "<style scoped>\n",
       "    .dataframe tbody tr th:only-of-type {\n",
       "        vertical-align: middle;\n",
       "    }\n",
       "\n",
       "    .dataframe tbody tr th {\n",
       "        vertical-align: top;\n",
       "    }\n",
       "\n",
       "    .dataframe thead th {\n",
       "        text-align: right;\n",
       "    }\n",
       "</style>\n",
       "<table border=\"1\" class=\"dataframe\">\n",
       "  <thead>\n",
       "    <tr style=\"text-align: right;\">\n",
       "      <th></th>\n",
       "      <th>x</th>\n",
       "      <th>y</th>\n",
       "      <th>z</th>\n",
       "    </tr>\n",
       "  </thead>\n",
       "  <tbody>\n",
       "    <tr>\n",
       "      <th>40026</th>\n",
       "      <td>-0.500495</td>\n",
       "      <td>-0.484022</td>\n",
       "      <td>-0.378478</td>\n",
       "    </tr>\n",
       "    <tr>\n",
       "      <th>10489</th>\n",
       "      <td>0.346517</td>\n",
       "      <td>0.266322</td>\n",
       "      <td>0.494596</td>\n",
       "    </tr>\n",
       "    <tr>\n",
       "      <th>4454</th>\n",
       "      <td>0.337601</td>\n",
       "      <td>0.379745</td>\n",
       "      <td>0.396023</td>\n",
       "    </tr>\n",
       "    <tr>\n",
       "      <th>20007</th>\n",
       "      <td>0.640743</td>\n",
       "      <td>0.597868</td>\n",
       "      <td>0.691742</td>\n",
       "    </tr>\n",
       "    <tr>\n",
       "      <th>30486</th>\n",
       "      <td>-1.213768</td>\n",
       "      <td>-1.225640</td>\n",
       "      <td>-1.181143</td>\n",
       "    </tr>\n",
       "  </tbody>\n",
       "</table>\n",
       "</div>"
      ],
      "text/plain": [
       "              x         y         z\n",
       "40026 -0.500495 -0.484022 -0.378478\n",
       "10489  0.346517  0.266322  0.494596\n",
       "4454   0.337601  0.379745  0.396023\n",
       "20007  0.640743  0.597868  0.691742\n",
       "30486 -1.213768 -1.225640 -1.181143"
      ]
     },
     "execution_count": 55,
     "metadata": {},
     "output_type": "execute_result"
    }
   ],
   "source": [
    "df_new.head()"
   ]
  },
  {
   "cell_type": "code",
   "execution_count": 56,
   "id": "21b2e0cf-1e63-4929-9d5b-c46df78ea3e6",
   "metadata": {},
   "outputs": [
    {
     "data": {
      "text/plain": [
       "(16182, 3)"
      ]
     },
     "execution_count": 56,
     "metadata": {},
     "output_type": "execute_result"
    }
   ],
   "source": [
    "df_new.shape"
   ]
  },
  {
   "cell_type": "code",
   "execution_count": 57,
   "id": "41dd4cd0-0ee8-4e69-bd36-2cf8be45a0e2",
   "metadata": {},
   "outputs": [
    {
     "name": "stdout",
     "output_type": "stream",
     "text": [
      "<class 'pandas.core.frame.DataFrame'>\n",
      "Index: 16182 entries, 40026 to 36836\n",
      "Data columns (total 3 columns):\n",
      " #   Column  Non-Null Count  Dtype  \n",
      "---  ------  --------------  -----  \n",
      " 0   x       16182 non-null  float64\n",
      " 1   y       16182 non-null  float64\n",
      " 2   z       16182 non-null  float64\n",
      "dtypes: float64(3)\n",
      "memory usage: 505.7 KB\n"
     ]
    }
   ],
   "source": [
    "df_new.info()"
   ]
  },
  {
   "cell_type": "code",
   "execution_count": 58,
   "id": "63dabf05-0cb8-4cc7-987b-1cafeccab734",
   "metadata": {},
   "outputs": [
    {
     "data": {
      "text/plain": [
       "x    0\n",
       "y    0\n",
       "z    0\n",
       "dtype: int64"
      ]
     },
     "execution_count": 58,
     "metadata": {},
     "output_type": "execute_result"
    }
   ],
   "source": [
    "df_new.isnull().sum()"
   ]
  },
  {
   "cell_type": "code",
   "execution_count": 59,
   "id": "4cdcf753-b770-4ef3-a78c-faed153186e6",
   "metadata": {},
   "outputs": [
    {
     "data": {
      "text/plain": [
       "0"
      ]
     },
     "execution_count": 59,
     "metadata": {},
     "output_type": "execute_result"
    }
   ],
   "source": [
    "df_new.isnull().sum().sum()"
   ]
  },
  {
   "cell_type": "code",
   "execution_count": 60,
   "id": "8612e0da-8d2d-4771-85f5-57b618a2fa72",
   "metadata": {},
   "outputs": [],
   "source": [
    "df_new_ohe = pd.get_dummies(df_new)"
   ]
  },
  {
   "cell_type": "code",
   "execution_count": 61,
   "id": "fd5e507f-24e8-4506-858f-153d2dda6cf8",
   "metadata": {},
   "outputs": [
    {
     "data": {
      "text/plain": [
       "(16182, 3)"
      ]
     },
     "execution_count": 61,
     "metadata": {},
     "output_type": "execute_result"
    }
   ],
   "source": [
    "df_new_ohe.shape"
   ]
  },
  {
   "cell_type": "code",
   "execution_count": 62,
   "id": "089025c8-eb81-4af6-b707-d8fdbe2c8e17",
   "metadata": {},
   "outputs": [],
   "source": [
    "df_new_ohe = df_new_ohe.iloc[:,1:]"
   ]
  },
  {
   "cell_type": "code",
   "execution_count": 63,
   "id": "f1a64d21-ace1-4fa7-a1d6-d5bb6cc16df4",
   "metadata": {},
   "outputs": [
    {
     "data": {
      "text/plain": [
       "(16182, 2)"
      ]
     },
     "execution_count": 63,
     "metadata": {},
     "output_type": "execute_result"
    }
   ],
   "source": [
    "df_new_ohe.shape"
   ]
  },
  {
   "cell_type": "code",
   "execution_count": 64,
   "id": "95d7bbf4-fde7-4c06-9cea-865527fd6668",
   "metadata": {},
   "outputs": [
    {
     "name": "stdout",
     "output_type": "stream",
     "text": [
      "<class 'pandas.core.frame.DataFrame'>\n",
      "Index: 16182 entries, 40026 to 36836\n",
      "Data columns (total 2 columns):\n",
      " #   Column  Non-Null Count  Dtype  \n",
      "---  ------  --------------  -----  \n",
      " 0   y       16182 non-null  float64\n",
      " 1   z       16182 non-null  float64\n",
      "dtypes: float64(2)\n",
      "memory usage: 379.3 KB\n"
     ]
    }
   ],
   "source": [
    "df_new_ohe.info()"
   ]
  },
  {
   "cell_type": "code",
   "execution_count": 65,
   "id": "10428594-1e18-4427-94ff-1e73aa3486de",
   "metadata": {},
   "outputs": [],
   "source": [
    "X1 = df_new_ohe"
   ]
  },
  {
   "cell_type": "code",
   "execution_count": 66,
   "id": "ba6ac201-1474-4bd6-aaa0-339dd53f73df",
   "metadata": {},
   "outputs": [],
   "source": [
    "from sklearn.model_selection import train_test_split"
   ]
  },
  {
   "cell_type": "code",
   "execution_count": 67,
   "id": "6cda9744-b3e7-412b-9883-bc808a33bc22",
   "metadata": {},
   "outputs": [],
   "source": [
    "X1_train,X1_test = train_test_split(X1, test_size=0.3, random_state=7)"
   ]
  },
  {
   "cell_type": "code",
   "execution_count": 69,
   "id": "6c1b12f1-1884-474b-9bb7-53a3fcc35077",
   "metadata": {},
   "outputs": [
    {
     "data": {
      "text/plain": [
       "((11327, 2), (4855, 2))"
      ]
     },
     "execution_count": 69,
     "metadata": {},
     "output_type": "execute_result"
    }
   ],
   "source": [
    "X1_train.shape, X1_test.shape"
   ]
  },
  {
   "cell_type": "code",
   "execution_count": 70,
   "id": "afa56e5a-8ad9-45f2-8c66-094a6dd51017",
   "metadata": {},
   "outputs": [],
   "source": [
    "from sklearn.cluster import KMeans"
   ]
  },
  {
   "cell_type": "code",
   "execution_count": 71,
   "id": "5675326c-5ce6-4605-a8b9-90e0ed0c8007",
   "metadata": {},
   "outputs": [],
   "source": [
    "mykmeans = KMeans(3,random_state=7)"
   ]
  },
  {
   "cell_type": "code",
   "execution_count": 72,
   "id": "12f58f92-3581-4afc-b5b4-7ecf1be0d82b",
   "metadata": {},
   "outputs": [
    {
     "name": "stderr",
     "output_type": "stream",
     "text": [
      "C:\\Users\\alish\\AppData\\Local\\Programs\\Python\\Python311\\Lib\\site-packages\\sklearn\\cluster\\_kmeans.py:1416: FutureWarning: The default value of `n_init` will change from 10 to 'auto' in 1.4. Set the value of `n_init` explicitly to suppress the warning\n",
      "  super()._check_params_vs_input(X, default_n_init=10)\n"
     ]
    },
    {
     "data": {
      "text/html": [
       "<style>#sk-container-id-3 {color: black;}#sk-container-id-3 pre{padding: 0;}#sk-container-id-3 div.sk-toggleable {background-color: white;}#sk-container-id-3 label.sk-toggleable__label {cursor: pointer;display: block;width: 100%;margin-bottom: 0;padding: 0.3em;box-sizing: border-box;text-align: center;}#sk-container-id-3 label.sk-toggleable__label-arrow:before {content: \"▸\";float: left;margin-right: 0.25em;color: #696969;}#sk-container-id-3 label.sk-toggleable__label-arrow:hover:before {color: black;}#sk-container-id-3 div.sk-estimator:hover label.sk-toggleable__label-arrow:before {color: black;}#sk-container-id-3 div.sk-toggleable__content {max-height: 0;max-width: 0;overflow: hidden;text-align: left;background-color: #f0f8ff;}#sk-container-id-3 div.sk-toggleable__content pre {margin: 0.2em;color: black;border-radius: 0.25em;background-color: #f0f8ff;}#sk-container-id-3 input.sk-toggleable__control:checked~div.sk-toggleable__content {max-height: 200px;max-width: 100%;overflow: auto;}#sk-container-id-3 input.sk-toggleable__control:checked~label.sk-toggleable__label-arrow:before {content: \"▾\";}#sk-container-id-3 div.sk-estimator input.sk-toggleable__control:checked~label.sk-toggleable__label {background-color: #d4ebff;}#sk-container-id-3 div.sk-label input.sk-toggleable__control:checked~label.sk-toggleable__label {background-color: #d4ebff;}#sk-container-id-3 input.sk-hidden--visually {border: 0;clip: rect(1px 1px 1px 1px);clip: rect(1px, 1px, 1px, 1px);height: 1px;margin: -1px;overflow: hidden;padding: 0;position: absolute;width: 1px;}#sk-container-id-3 div.sk-estimator {font-family: monospace;background-color: #f0f8ff;border: 1px dotted black;border-radius: 0.25em;box-sizing: border-box;margin-bottom: 0.5em;}#sk-container-id-3 div.sk-estimator:hover {background-color: #d4ebff;}#sk-container-id-3 div.sk-parallel-item::after {content: \"\";width: 100%;border-bottom: 1px solid gray;flex-grow: 1;}#sk-container-id-3 div.sk-label:hover label.sk-toggleable__label {background-color: #d4ebff;}#sk-container-id-3 div.sk-serial::before {content: \"\";position: absolute;border-left: 1px solid gray;box-sizing: border-box;top: 0;bottom: 0;left: 50%;z-index: 0;}#sk-container-id-3 div.sk-serial {display: flex;flex-direction: column;align-items: center;background-color: white;padding-right: 0.2em;padding-left: 0.2em;position: relative;}#sk-container-id-3 div.sk-item {position: relative;z-index: 1;}#sk-container-id-3 div.sk-parallel {display: flex;align-items: stretch;justify-content: center;background-color: white;position: relative;}#sk-container-id-3 div.sk-item::before, #sk-container-id-3 div.sk-parallel-item::before {content: \"\";position: absolute;border-left: 1px solid gray;box-sizing: border-box;top: 0;bottom: 0;left: 50%;z-index: -1;}#sk-container-id-3 div.sk-parallel-item {display: flex;flex-direction: column;z-index: 1;position: relative;background-color: white;}#sk-container-id-3 div.sk-parallel-item:first-child::after {align-self: flex-end;width: 50%;}#sk-container-id-3 div.sk-parallel-item:last-child::after {align-self: flex-start;width: 50%;}#sk-container-id-3 div.sk-parallel-item:only-child::after {width: 0;}#sk-container-id-3 div.sk-dashed-wrapped {border: 1px dashed gray;margin: 0 0.4em 0.5em 0.4em;box-sizing: border-box;padding-bottom: 0.4em;background-color: white;}#sk-container-id-3 div.sk-label label {font-family: monospace;font-weight: bold;display: inline-block;line-height: 1.2em;}#sk-container-id-3 div.sk-label-container {text-align: center;}#sk-container-id-3 div.sk-container {/* jupyter's `normalize.less` sets `[hidden] { display: none; }` but bootstrap.min.css set `[hidden] { display: none !important; }` so we also need the `!important` here to be able to override the default hidden behavior on the sphinx rendered scikit-learn.org. See: https://github.com/scikit-learn/scikit-learn/issues/21755 */display: inline-block !important;position: relative;}#sk-container-id-3 div.sk-text-repr-fallback {display: none;}</style><div id=\"sk-container-id-3\" class=\"sk-top-container\"><div class=\"sk-text-repr-fallback\"><pre>KMeans(n_clusters=3, random_state=7)</pre><b>In a Jupyter environment, please rerun this cell to show the HTML representation or trust the notebook. <br />On GitHub, the HTML representation is unable to render, please try loading this page with nbviewer.org.</b></div><div class=\"sk-container\" hidden><div class=\"sk-item\"><div class=\"sk-estimator sk-toggleable\"><input class=\"sk-toggleable__control sk-hidden--visually\" id=\"sk-estimator-id-3\" type=\"checkbox\" checked><label for=\"sk-estimator-id-3\" class=\"sk-toggleable__label sk-toggleable__label-arrow\">KMeans</label><div class=\"sk-toggleable__content\"><pre>KMeans(n_clusters=3, random_state=7)</pre></div></div></div></div></div>"
      ],
      "text/plain": [
       "KMeans(n_clusters=3, random_state=7)"
      ]
     },
     "execution_count": 72,
     "metadata": {},
     "output_type": "execute_result"
    }
   ],
   "source": [
    "# fit function for training\n",
    "mykmeans.fit(X1_train)"
   ]
  },
  {
   "cell_type": "code",
   "execution_count": 73,
   "id": "e47601ba-25f7-43a5-8240-7f9b30f2346d",
   "metadata": {},
   "outputs": [],
   "source": [
    "# Do the predictions / testing\n",
    "cluster_nos = mykmeans.predict(X1_test)"
   ]
  },
  {
   "cell_type": "code",
   "execution_count": 74,
   "id": "30e5d9fc-5459-46d7-b414-c0b3960ac098",
   "metadata": {},
   "outputs": [
    {
     "data": {
      "text/plain": [
       "y   -1.208190\n",
       "z   -1.167061\n",
       "Name: 33450, dtype: float64"
      ]
     },
     "execution_count": 74,
     "metadata": {},
     "output_type": "execute_result"
    }
   ],
   "source": [
    "X1_test.iloc[0,:]"
   ]
  },
  {
   "cell_type": "code",
   "execution_count": 75,
   "id": "0cc77963-c935-460e-8b85-a8db19945841",
   "metadata": {},
   "outputs": [
    {
     "data": {
      "text/plain": [
       "1"
      ]
     },
     "execution_count": 75,
     "metadata": {},
     "output_type": "execute_result"
    }
   ],
   "source": [
    "cluster_nos[0]"
   ]
  },
  {
   "cell_type": "code",
   "execution_count": 77,
   "id": "9493b9d2-da25-4ff9-8e08-8e795e7fd8a5",
   "metadata": {},
   "outputs": [
    {
     "data": {
      "text/plain": [
       "((4855,), (4855, 2))"
      ]
     },
     "execution_count": 77,
     "metadata": {},
     "output_type": "execute_result"
    }
   ],
   "source": [
    "cluster_nos.shape, X1_test.shape"
   ]
  },
  {
   "cell_type": "code",
   "execution_count": 79,
   "id": "864f0bd6-36a2-4980-9af5-bd6d0a077258",
   "metadata": {},
   "outputs": [
    {
     "data": {
      "text/plain": [
       "(1901, 2)"
      ]
     },
     "execution_count": 79,
     "metadata": {},
     "output_type": "execute_result"
    }
   ],
   "source": [
    "X1_test.loc[cluster_nos == 0,:].shape"
   ]
  },
  {
   "cell_type": "code",
   "execution_count": 80,
   "id": "6e25cf8d-b49f-465f-9461-7ac4b0a2f219",
   "metadata": {},
   "outputs": [
    {
     "data": {
      "text/plain": [
       "(2208, 2)"
      ]
     },
     "execution_count": 80,
     "metadata": {},
     "output_type": "execute_result"
    }
   ],
   "source": [
    "X1_test.loc[cluster_nos == 1,:].shape"
   ]
  },
  {
   "cell_type": "code",
   "execution_count": 81,
   "id": "f949340f-eec5-4266-a809-1b72d050bdd4",
   "metadata": {},
   "outputs": [
    {
     "data": {
      "text/plain": [
       "(746, 2)"
      ]
     },
     "execution_count": 81,
     "metadata": {},
     "output_type": "execute_result"
    }
   ],
   "source": [
    "X1_test.loc[cluster_nos == 2,:].shape"
   ]
  },
  {
   "cell_type": "code",
   "execution_count": 82,
   "id": "682ae577-005e-4158-b1e1-1ab8f325c612",
   "metadata": {},
   "outputs": [
    {
     "name": "stderr",
     "output_type": "stream",
     "text": [
      "C:\\Users\\alish\\AppData\\Local\\Programs\\Python\\Python311\\Lib\\site-packages\\sklearn\\cluster\\_kmeans.py:1416: FutureWarning: The default value of `n_init` will change from 10 to 'auto' in 1.4. Set the value of `n_init` explicitly to suppress the warning\n",
      "  super()._check_params_vs_input(X, default_n_init=10)\n",
      "C:\\Users\\alish\\AppData\\Local\\Programs\\Python\\Python311\\Lib\\site-packages\\sklearn\\cluster\\_kmeans.py:1416: FutureWarning: The default value of `n_init` will change from 10 to 'auto' in 1.4. Set the value of `n_init` explicitly to suppress the warning\n",
      "  super()._check_params_vs_input(X, default_n_init=10)\n",
      "C:\\Users\\alish\\AppData\\Local\\Programs\\Python\\Python311\\Lib\\site-packages\\sklearn\\cluster\\_kmeans.py:1416: FutureWarning: The default value of `n_init` will change from 10 to 'auto' in 1.4. Set the value of `n_init` explicitly to suppress the warning\n",
      "  super()._check_params_vs_input(X, default_n_init=10)\n",
      "C:\\Users\\alish\\AppData\\Local\\Programs\\Python\\Python311\\Lib\\site-packages\\sklearn\\cluster\\_kmeans.py:1416: FutureWarning: The default value of `n_init` will change from 10 to 'auto' in 1.4. Set the value of `n_init` explicitly to suppress the warning\n",
      "  super()._check_params_vs_input(X, default_n_init=10)\n",
      "C:\\Users\\alish\\AppData\\Local\\Programs\\Python\\Python311\\Lib\\site-packages\\sklearn\\cluster\\_kmeans.py:1416: FutureWarning: The default value of `n_init` will change from 10 to 'auto' in 1.4. Set the value of `n_init` explicitly to suppress the warning\n",
      "  super()._check_params_vs_input(X, default_n_init=10)\n",
      "C:\\Users\\alish\\AppData\\Local\\Programs\\Python\\Python311\\Lib\\site-packages\\sklearn\\cluster\\_kmeans.py:1416: FutureWarning: The default value of `n_init` will change from 10 to 'auto' in 1.4. Set the value of `n_init` explicitly to suppress the warning\n",
      "  super()._check_params_vs_input(X, default_n_init=10)\n",
      "C:\\Users\\alish\\AppData\\Local\\Programs\\Python\\Python311\\Lib\\site-packages\\sklearn\\cluster\\_kmeans.py:1416: FutureWarning: The default value of `n_init` will change from 10 to 'auto' in 1.4. Set the value of `n_init` explicitly to suppress the warning\n",
      "  super()._check_params_vs_input(X, default_n_init=10)\n",
      "C:\\Users\\alish\\AppData\\Local\\Programs\\Python\\Python311\\Lib\\site-packages\\sklearn\\cluster\\_kmeans.py:1416: FutureWarning: The default value of `n_init` will change from 10 to 'auto' in 1.4. Set the value of `n_init` explicitly to suppress the warning\n",
      "  super()._check_params_vs_input(X, default_n_init=10)\n",
      "C:\\Users\\alish\\AppData\\Local\\Programs\\Python\\Python311\\Lib\\site-packages\\sklearn\\cluster\\_kmeans.py:1416: FutureWarning: The default value of `n_init` will change from 10 to 'auto' in 1.4. Set the value of `n_init` explicitly to suppress the warning\n",
      "  super()._check_params_vs_input(X, default_n_init=10)\n"
     ]
    }
   ],
   "source": [
    "inertia_values = []\n",
    "for k in range(2,11):\n",
    "    mykmeans = KMeans(k,random_state=7)\n",
    "    mykmeans.fit(X1_train)\n",
    "    inertia_values.append(mykmeans.inertia_)"
   ]
  },
  {
   "cell_type": "code",
   "execution_count": 83,
   "id": "17244226-b028-466d-a1c4-e9ccefe02007",
   "metadata": {},
   "outputs": [
    {
     "data": {
      "text/plain": [
       "[6361.8816171583,\n",
       " 3349.152752359763,\n",
       " 1965.401392150518,\n",
       " 1522.1407050550931,\n",
       " 1143.4103515423421,\n",
       " 821.7082586942181,\n",
       " 638.1747547504526,\n",
       " 468.7886888766417,\n",
       " 416.69658520272776]"
      ]
     },
     "execution_count": 83,
     "metadata": {},
     "output_type": "execute_result"
    }
   ],
   "source": [
    "inertia_values"
   ]
  },
  {
   "cell_type": "code",
   "execution_count": 84,
   "id": "fb4795d6-b127-4f53-9f63-043c13c53abf",
   "metadata": {},
   "outputs": [
    {
     "data": {
      "text/plain": [
       "[<matplotlib.lines.Line2D at 0x2cf75f1ff10>]"
      ]
     },
     "execution_count": 84,
     "metadata": {},
     "output_type": "execute_result"
    },
    {
     "data": {
      "image/png": "[encoded data removed]",
      "text/plain": [
       "<Figure size 640x480 with 1 Axes>"
      ]
     },
     "metadata": {},
     "output_type": "display_data"
    }
   ],
   "source": [
    "import matplotlib.pyplot as plt\n",
    "plt.plot(list(range(2,11)), inertia_values)"
   ]
  },
  {
   "cell_type": "code",
   "execution_count": 85,
   "id": "48317d02-c0a6-4cd0-9710-d85899eeb113",
   "metadata": {},
   "outputs": [],
   "source": [
    "from sklearn.metrics import silhouette_score"
   ]
  },
  {
   "cell_type": "code",
   "execution_count": 86,
   "id": "f8776a98-6bb2-4a30-be6b-f5228ba3fec4",
   "metadata": {},
   "outputs": [
    {
     "data": {
      "text/plain": [
       "0.6033985060388264"
      ]
     },
     "execution_count": 86,
     "metadata": {},
     "output_type": "execute_result"
    }
   ],
   "source": [
    "silhouette_score(X1_test, cluster_nos)"
   ]
  },
  {
   "cell_type": "code",
   "execution_count": null,
   "id": "c21e627c-5743-40ef-8b3a-8a2c9b3e41fa",
   "metadata": {},
   "outputs": [],
   "source": []
  }
 ],
 "metadata": {
  "kernelspec": {
   "display_name": "Python 3 (ipykernel)",
   "language": "python",
   "name": "python3"
  },
  "language_info": {
   "codemirror_mode": {
    "name": "ipython",
    "version": 3
   },
   "file_extension": ".py",
   "mimetype": "text/x-python",
   "name": "python",
   "nbconvert_exporter": "python",
   "pygments_lexer": "ipython3",
   "version": "3.11.5"
  }
 },
 "nbformat": 4,
 "nbformat_minor": 5
}
